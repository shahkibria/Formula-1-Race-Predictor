{
 "cells": [
  {
   "cell_type": "code",
   "execution_count": 1,
   "metadata": {},
   "outputs": [],
   "source": [
    "import pandas as pd\n",
    "import numpy as np\n",
    "from pathlib import Path"
   ]
  },
  {
   "cell_type": "code",
   "execution_count": 2,
   "metadata": {},
   "outputs": [],
   "source": [
    "# Read all four output files\n",
    "\n",
    "classifier = pd.read_csv(Path('../../../Resources/PythonExport/ML_Export/2018-19/cl_output_2018-19.csv'))\n",
    "classifier = classifier.drop(['Unnamed: 0'], axis=1)\n",
    "\n",
    "svm = pd.read_csv(Path('../../../Resources/PythonExport/ML_Export/2018-19/svm_output_2018-19.csv'))\n",
    "svm = svm.drop(['Unnamed: 0'], axis=1)\n",
    "\n",
    "rnf = pd.read_csv(Path('../../../Resources/PythonExport/ML_Export/2018-19/rnf_output_2018-19.csv'))\n",
    "rnf = rnf.drop(['Unnamed: 0'], axis=1)\n",
    "\n",
    "nn = pd.read_csv(Path('../../../Resources/PythonExport/ML_Export/2018-19/nn_output_2018-19.csv'))\n",
    "nn = nn.drop(['Unnamed: 0'], axis=1)"
   ]
  },
  {
   "cell_type": "code",
   "execution_count": 3,
   "metadata": {},
   "outputs": [],
   "source": [
    "# Merge all 4 files on result ID\n",
    "output_201819 = pd.merge(classifier, svm, how='left', on=['resultId'])"
   ]
  },
  {
   "cell_type": "code",
   "execution_count": 4,
   "metadata": {},
   "outputs": [],
   "source": [
    "output_201819 = pd.merge(output_201819, rnf, how='left', on=['resultId'])"
   ]
  },
  {
   "cell_type": "code",
   "execution_count": 5,
   "metadata": {},
   "outputs": [
    {
     "name": "stdout",
     "output_type": "stream",
     "text": [
      "(840, 14)\n"
     ]
    },
    {
     "data": {
      "text/html": [
       "<div>\n",
       "<style scoped>\n",
       "    .dataframe tbody tr th:only-of-type {\n",
       "        vertical-align: middle;\n",
       "    }\n",
       "\n",
       "    .dataframe tbody tr th {\n",
       "        vertical-align: top;\n",
       "    }\n",
       "\n",
       "    .dataframe thead th {\n",
       "        text-align: right;\n",
       "    }\n",
       "</style>\n",
       "<table border=\"1\" class=\"dataframe\">\n",
       "  <thead>\n",
       "    <tr style=\"text-align: right;\">\n",
       "      <th></th>\n",
       "      <th>resultId</th>\n",
       "      <th>name</th>\n",
       "      <th>driverRef</th>\n",
       "      <th>constructorRef</th>\n",
       "      <th>Outcome</th>\n",
       "      <th>Bin</th>\n",
       "      <th>CL_Outcome</th>\n",
       "      <th>CL_Bin</th>\n",
       "      <th>SVM_Outcome</th>\n",
       "      <th>SVM_Bin</th>\n",
       "      <th>RNF_Outcome</th>\n",
       "      <th>RNF_Bin</th>\n",
       "      <th>NN_Outcome</th>\n",
       "      <th>NN_Bin</th>\n",
       "    </tr>\n",
       "  </thead>\n",
       "  <tbody>\n",
       "    <tr>\n",
       "      <th>0</th>\n",
       "      <td>23782</td>\n",
       "      <td>Australian Grand Prix</td>\n",
       "      <td>vettel</td>\n",
       "      <td>ferrari</td>\n",
       "      <td>1</td>\n",
       "      <td>1</td>\n",
       "      <td>4</td>\n",
       "      <td>2</td>\n",
       "      <td>17</td>\n",
       "      <td>4</td>\n",
       "      <td>7</td>\n",
       "      <td>3</td>\n",
       "      <td>4</td>\n",
       "      <td>2</td>\n",
       "    </tr>\n",
       "    <tr>\n",
       "      <th>1</th>\n",
       "      <td>23783</td>\n",
       "      <td>Australian Grand Prix</td>\n",
       "      <td>hamilton</td>\n",
       "      <td>mercedes</td>\n",
       "      <td>2</td>\n",
       "      <td>1</td>\n",
       "      <td>1</td>\n",
       "      <td>1</td>\n",
       "      <td>1</td>\n",
       "      <td>1</td>\n",
       "      <td>3</td>\n",
       "      <td>1</td>\n",
       "      <td>2</td>\n",
       "      <td>1</td>\n",
       "    </tr>\n",
       "    <tr>\n",
       "      <th>2</th>\n",
       "      <td>23784</td>\n",
       "      <td>Australian Grand Prix</td>\n",
       "      <td>raikkonen</td>\n",
       "      <td>ferrari</td>\n",
       "      <td>3</td>\n",
       "      <td>1</td>\n",
       "      <td>3</td>\n",
       "      <td>1</td>\n",
       "      <td>13</td>\n",
       "      <td>4</td>\n",
       "      <td>1</td>\n",
       "      <td>1</td>\n",
       "      <td>7</td>\n",
       "      <td>3</td>\n",
       "    </tr>\n",
       "    <tr>\n",
       "      <th>3</th>\n",
       "      <td>23785</td>\n",
       "      <td>Australian Grand Prix</td>\n",
       "      <td>ricciardo</td>\n",
       "      <td>red_bull</td>\n",
       "      <td>4</td>\n",
       "      <td>2</td>\n",
       "      <td>16</td>\n",
       "      <td>4</td>\n",
       "      <td>33</td>\n",
       "      <td>4</td>\n",
       "      <td>8</td>\n",
       "      <td>3</td>\n",
       "      <td>10</td>\n",
       "      <td>3</td>\n",
       "    </tr>\n",
       "    <tr>\n",
       "      <th>4</th>\n",
       "      <td>23786</td>\n",
       "      <td>Australian Grand Prix</td>\n",
       "      <td>alonso</td>\n",
       "      <td>mclaren</td>\n",
       "      <td>5</td>\n",
       "      <td>2</td>\n",
       "      <td>18</td>\n",
       "      <td>4</td>\n",
       "      <td>11</td>\n",
       "      <td>4</td>\n",
       "      <td>9</td>\n",
       "      <td>3</td>\n",
       "      <td>14</td>\n",
       "      <td>4</td>\n",
       "    </tr>\n",
       "  </tbody>\n",
       "</table>\n",
       "</div>"
      ],
      "text/plain": [
       "   resultId                   name  driverRef constructorRef  Outcome  Bin  \\\n",
       "0     23782  Australian Grand Prix     vettel        ferrari        1    1   \n",
       "1     23783  Australian Grand Prix   hamilton       mercedes        2    1   \n",
       "2     23784  Australian Grand Prix  raikkonen        ferrari        3    1   \n",
       "3     23785  Australian Grand Prix  ricciardo       red_bull        4    2   \n",
       "4     23786  Australian Grand Prix     alonso        mclaren        5    2   \n",
       "\n",
       "   CL_Outcome  CL_Bin  SVM_Outcome  SVM_Bin  RNF_Outcome  RNF_Bin  NN_Outcome  \\\n",
       "0           4       2           17        4            7        3           4   \n",
       "1           1       1            1        1            3        1           2   \n",
       "2           3       1           13        4            1        1           7   \n",
       "3          16       4           33        4            8        3          10   \n",
       "4          18       4           11        4            9        3          14   \n",
       "\n",
       "   NN_Bin  \n",
       "0       2  \n",
       "1       1  \n",
       "2       3  \n",
       "3       3  \n",
       "4       4  "
      ]
     },
     "execution_count": 5,
     "metadata": {},
     "output_type": "execute_result"
    }
   ],
   "source": [
    "output_201819 = pd.merge(output_201819, nn, how='left', on=['resultId'])\n",
    "print(output_201819.shape)\n",
    "output_201819.head()"
   ]
  },
  {
   "cell_type": "code",
   "execution_count": 6,
   "metadata": {},
   "outputs": [],
   "source": [
    "# Extract CSV file\n",
    "output_201819.to_csv('../../../Resources/PythonExport/ML_Export/2018-19/output_2018-19.csv')"
   ]
  },
  {
   "cell_type": "code",
   "execution_count": null,
   "metadata": {},
   "outputs": [],
   "source": []
  }
 ],
 "metadata": {
  "kernelspec": {
   "display_name": "Python 3",
   "language": "python",
   "name": "python3"
  },
  "language_info": {
   "codemirror_mode": {
    "name": "ipython",
    "version": 3
   },
   "file_extension": ".py",
   "mimetype": "text/x-python",
   "name": "python",
   "nbconvert_exporter": "python",
   "pygments_lexer": "ipython3",
   "version": "3.8.5"
  }
 },
 "nbformat": 4,
 "nbformat_minor": 4
}
