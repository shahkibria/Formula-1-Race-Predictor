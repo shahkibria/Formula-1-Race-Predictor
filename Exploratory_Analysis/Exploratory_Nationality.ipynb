{
 "cells": [
  {
   "cell_type": "markdown",
   "id": "9db2f1c3",
   "metadata": {},
   "source": [
    "# Exploratory Analysis"
   ]
  },
  {
   "cell_type": "code",
   "execution_count": 1,
   "id": "9a0a6b41",
   "metadata": {},
   "outputs": [],
   "source": [
    "# Import dependencies\n",
    "%matplotlib inline\n",
    "import pandas as pd\n",
    "import matplotlib.pyplot as plt\n",
    "import numpy as np"
   ]
  },
  {
   "cell_type": "code",
   "execution_count": 2,
   "id": "90233ec6",
   "metadata": {},
   "outputs": [],
   "source": [
    "# Load files for analysis\n",
    "results_df = pd.read_csv('../Resources/Dataset/results.csv')\n",
    "circuits_df = pd.read_csv('../Resources/Dataset/circuits.csv')\n",
    "drivers_df = pd.read_csv('../Resources/Dataset/drivers.csv')\n",
    "races_df = pd.read_csv('../Resources/Dataset/races.csv')"
   ]
  },
  {
   "cell_type": "markdown",
   "id": "e9988bda",
   "metadata": {},
   "source": [
    "# Join Tables"
   ]
  },
  {
   "cell_type": "code",
   "execution_count": 3,
   "id": "c0d48aac",
   "metadata": {},
   "outputs": [],
   "source": [
    "# Join results with drivers dataset.\n",
    "res_dr_df = pd.merge(results_df,drivers_df,how='left',on='driverId')\n",
    "\n",
    "# Join races dataset.\n",
    "res_dr_rc_df = pd.merge(res_dr_df,races_df,how='left',on='raceId')\n",
    "\n",
    "# Join circuits dataset.\n",
    "merged_df = pd.merge(res_dr_rc_df,circuits_df,how='left',on='circuitId')"
   ]
  },
  {
   "cell_type": "code",
   "execution_count": 4,
   "id": "6ac0f681",
   "metadata": {},
   "outputs": [],
   "source": [
    "# Drop columns.\n",
    "merged_df = merged_df.drop(columns=['resultId','raceId','constructorId','number_x','grid','positionText','positionOrder','rank',\n",
    "                                    'points','laps','time_x','milliseconds','fastestLap','fastestLapTime','fastestLapSpeed',\n",
    "                                    'statusId','number_y','code','forename','surname','dob','url_x','round','date','time_y','url_y',\n",
    "                                    'circuitRef','name_y','location','lat','lng','alt','url','year','circuitId','name_x'])"
   ]
  },
  {
   "cell_type": "code",
   "execution_count": 5,
   "id": "d7173b24",
   "metadata": {},
   "outputs": [
    {
     "data": {
      "text/html": [
       "<div>\n",
       "<style scoped>\n",
       "    .dataframe tbody tr th:only-of-type {\n",
       "        vertical-align: middle;\n",
       "    }\n",
       "\n",
       "    .dataframe tbody tr th {\n",
       "        vertical-align: top;\n",
       "    }\n",
       "\n",
       "    .dataframe thead th {\n",
       "        text-align: right;\n",
       "    }\n",
       "</style>\n",
       "<table border=\"1\" class=\"dataframe\">\n",
       "  <thead>\n",
       "    <tr style=\"text-align: right;\">\n",
       "      <th></th>\n",
       "      <th>driverId</th>\n",
       "      <th>position</th>\n",
       "      <th>driverRef</th>\n",
       "      <th>nationality</th>\n",
       "      <th>country</th>\n",
       "    </tr>\n",
       "  </thead>\n",
       "  <tbody>\n",
       "    <tr>\n",
       "      <th>0</th>\n",
       "      <td>1</td>\n",
       "      <td>1</td>\n",
       "      <td>hamilton</td>\n",
       "      <td>British</td>\n",
       "      <td>Australia</td>\n",
       "    </tr>\n",
       "    <tr>\n",
       "      <th>1</th>\n",
       "      <td>2</td>\n",
       "      <td>2</td>\n",
       "      <td>heidfeld</td>\n",
       "      <td>German</td>\n",
       "      <td>Australia</td>\n",
       "    </tr>\n",
       "    <tr>\n",
       "      <th>2</th>\n",
       "      <td>3</td>\n",
       "      <td>3</td>\n",
       "      <td>rosberg</td>\n",
       "      <td>German</td>\n",
       "      <td>Australia</td>\n",
       "    </tr>\n",
       "    <tr>\n",
       "      <th>3</th>\n",
       "      <td>4</td>\n",
       "      <td>4</td>\n",
       "      <td>alonso</td>\n",
       "      <td>Spanish</td>\n",
       "      <td>Australia</td>\n",
       "    </tr>\n",
       "    <tr>\n",
       "      <th>4</th>\n",
       "      <td>5</td>\n",
       "      <td>5</td>\n",
       "      <td>kovalainen</td>\n",
       "      <td>Finnish</td>\n",
       "      <td>Australia</td>\n",
       "    </tr>\n",
       "    <tr>\n",
       "      <th>...</th>\n",
       "      <td>...</td>\n",
       "      <td>...</td>\n",
       "      <td>...</td>\n",
       "      <td>...</td>\n",
       "      <td>...</td>\n",
       "    </tr>\n",
       "    <tr>\n",
       "      <th>25035</th>\n",
       "      <td>849</td>\n",
       "      <td>16</td>\n",
       "      <td>latifi</td>\n",
       "      <td>Canadian</td>\n",
       "      <td>Spain</td>\n",
       "    </tr>\n",
       "    <tr>\n",
       "      <th>25036</th>\n",
       "      <td>4</td>\n",
       "      <td>17</td>\n",
       "      <td>alonso</td>\n",
       "      <td>Spanish</td>\n",
       "      <td>Spain</td>\n",
       "    </tr>\n",
       "    <tr>\n",
       "      <th>25037</th>\n",
       "      <td>854</td>\n",
       "      <td>18</td>\n",
       "      <td>mick_schumacher</td>\n",
       "      <td>German</td>\n",
       "      <td>Spain</td>\n",
       "    </tr>\n",
       "    <tr>\n",
       "      <th>25038</th>\n",
       "      <td>853</td>\n",
       "      <td>19</td>\n",
       "      <td>mazepin</td>\n",
       "      <td>Russian</td>\n",
       "      <td>Spain</td>\n",
       "    </tr>\n",
       "    <tr>\n",
       "      <th>25039</th>\n",
       "      <td>852</td>\n",
       "      <td>99</td>\n",
       "      <td>tsunoda</td>\n",
       "      <td>Japanese</td>\n",
       "      <td>Spain</td>\n",
       "    </tr>\n",
       "  </tbody>\n",
       "</table>\n",
       "<p>25040 rows × 5 columns</p>\n",
       "</div>"
      ],
      "text/plain": [
       "       driverId  position        driverRef nationality    country\n",
       "0             1         1         hamilton     British  Australia\n",
       "1             2         2         heidfeld      German  Australia\n",
       "2             3         3          rosberg      German  Australia\n",
       "3             4         4           alonso     Spanish  Australia\n",
       "4             5         5       kovalainen     Finnish  Australia\n",
       "...         ...       ...              ...         ...        ...\n",
       "25035       849        16           latifi    Canadian      Spain\n",
       "25036         4        17           alonso     Spanish      Spain\n",
       "25037       854        18  mick_schumacher      German      Spain\n",
       "25038       853        19          mazepin     Russian      Spain\n",
       "25039       852        99          tsunoda    Japanese      Spain\n",
       "\n",
       "[25040 rows x 5 columns]"
      ]
     },
     "execution_count": 5,
     "metadata": {},
     "output_type": "execute_result"
    }
   ],
   "source": [
    "# Replace all \\\\N in position column to 99.\n",
    "merged_df['position'] = merged_df['position'].replace({'\\\\N':99})\n",
    "\n",
    "# Convert position from object to numeric.\n",
    "merged_df['position'] = pd.to_numeric(merged_df['position'])\n",
    "merged_df"
   ]
  },
  {
   "cell_type": "markdown",
   "id": "05242ffb",
   "metadata": {},
   "source": [
    "# Visualizations"
   ]
  },
  {
   "cell_type": "code",
   "execution_count": 6,
   "id": "c67a1e4c",
   "metadata": {},
   "outputs": [],
   "source": [
    "# Consider position 1,2,3 values.\n",
    "merged_df['position']= merged_df ['position'].loc[merged_df['position']<4]\n",
    "merged_df['position'] = pd.to_numeric(merged_df['position'])"
   ]
  },
  {
   "cell_type": "code",
   "execution_count": 7,
   "id": "90215626",
   "metadata": {},
   "outputs": [],
   "source": [
    "# Drop NAN values.\n",
    "merged_df = merged_df.dropna().reset_index()"
   ]
  },
  {
   "cell_type": "code",
   "execution_count": 8,
   "id": "e3fd8436",
   "metadata": {},
   "outputs": [
    {
     "data": {
      "text/html": [
       "<div>\n",
       "<style scoped>\n",
       "    .dataframe tbody tr th:only-of-type {\n",
       "        vertical-align: middle;\n",
       "    }\n",
       "\n",
       "    .dataframe tbody tr th {\n",
       "        vertical-align: top;\n",
       "    }\n",
       "\n",
       "    .dataframe thead th {\n",
       "        text-align: right;\n",
       "    }\n",
       "</style>\n",
       "<table border=\"1\" class=\"dataframe\">\n",
       "  <thead>\n",
       "    <tr style=\"text-align: right;\">\n",
       "      <th></th>\n",
       "      <th>index</th>\n",
       "      <th>driverId</th>\n",
       "      <th>position</th>\n",
       "      <th>driverRef</th>\n",
       "      <th>nationality</th>\n",
       "      <th>country</th>\n",
       "      <th>homeWin</th>\n",
       "    </tr>\n",
       "  </thead>\n",
       "  <tbody>\n",
       "    <tr>\n",
       "      <th>0</th>\n",
       "      <td>0</td>\n",
       "      <td>1</td>\n",
       "      <td>1.0</td>\n",
       "      <td>hamilton</td>\n",
       "      <td>British</td>\n",
       "      <td>Australia</td>\n",
       "      <td>No</td>\n",
       "    </tr>\n",
       "    <tr>\n",
       "      <th>1</th>\n",
       "      <td>1</td>\n",
       "      <td>2</td>\n",
       "      <td>2.0</td>\n",
       "      <td>heidfeld</td>\n",
       "      <td>German</td>\n",
       "      <td>Australia</td>\n",
       "      <td>No</td>\n",
       "    </tr>\n",
       "    <tr>\n",
       "      <th>2</th>\n",
       "      <td>2</td>\n",
       "      <td>3</td>\n",
       "      <td>3.0</td>\n",
       "      <td>rosberg</td>\n",
       "      <td>German</td>\n",
       "      <td>Australia</td>\n",
       "      <td>No</td>\n",
       "    </tr>\n",
       "    <tr>\n",
       "      <th>3</th>\n",
       "      <td>22</td>\n",
       "      <td>8</td>\n",
       "      <td>1.0</td>\n",
       "      <td>raikkonen</td>\n",
       "      <td>Finnish</td>\n",
       "      <td>Malaysia</td>\n",
       "      <td>No</td>\n",
       "    </tr>\n",
       "    <tr>\n",
       "      <th>4</th>\n",
       "      <td>23</td>\n",
       "      <td>9</td>\n",
       "      <td>2.0</td>\n",
       "      <td>kubica</td>\n",
       "      <td>Polish</td>\n",
       "      <td>Malaysia</td>\n",
       "      <td>No</td>\n",
       "    </tr>\n",
       "    <tr>\n",
       "      <th>...</th>\n",
       "      <td>...</td>\n",
       "      <td>...</td>\n",
       "      <td>...</td>\n",
       "      <td>...</td>\n",
       "      <td>...</td>\n",
       "      <td>...</td>\n",
       "      <td>...</td>\n",
       "    </tr>\n",
       "    <tr>\n",
       "      <th>3133</th>\n",
       "      <td>25001</td>\n",
       "      <td>830</td>\n",
       "      <td>2.0</td>\n",
       "      <td>max_verstappen</td>\n",
       "      <td>Dutch</td>\n",
       "      <td>Portugal</td>\n",
       "      <td>No</td>\n",
       "    </tr>\n",
       "    <tr>\n",
       "      <th>3134</th>\n",
       "      <td>25002</td>\n",
       "      <td>822</td>\n",
       "      <td>3.0</td>\n",
       "      <td>bottas</td>\n",
       "      <td>Finnish</td>\n",
       "      <td>Portugal</td>\n",
       "      <td>No</td>\n",
       "    </tr>\n",
       "    <tr>\n",
       "      <th>3135</th>\n",
       "      <td>25020</td>\n",
       "      <td>1</td>\n",
       "      <td>1.0</td>\n",
       "      <td>hamilton</td>\n",
       "      <td>British</td>\n",
       "      <td>Spain</td>\n",
       "      <td>No</td>\n",
       "    </tr>\n",
       "    <tr>\n",
       "      <th>3136</th>\n",
       "      <td>25021</td>\n",
       "      <td>830</td>\n",
       "      <td>2.0</td>\n",
       "      <td>max_verstappen</td>\n",
       "      <td>Dutch</td>\n",
       "      <td>Spain</td>\n",
       "      <td>No</td>\n",
       "    </tr>\n",
       "    <tr>\n",
       "      <th>3137</th>\n",
       "      <td>25022</td>\n",
       "      <td>822</td>\n",
       "      <td>3.0</td>\n",
       "      <td>bottas</td>\n",
       "      <td>Finnish</td>\n",
       "      <td>Spain</td>\n",
       "      <td>No</td>\n",
       "    </tr>\n",
       "  </tbody>\n",
       "</table>\n",
       "<p>3138 rows × 7 columns</p>\n",
       "</div>"
      ],
      "text/plain": [
       "      index  driverId  position       driverRef nationality    country homeWin\n",
       "0         0         1       1.0        hamilton     British  Australia      No\n",
       "1         1         2       2.0        heidfeld      German  Australia      No\n",
       "2         2         3       3.0         rosberg      German  Australia      No\n",
       "3        22         8       1.0       raikkonen     Finnish   Malaysia      No\n",
       "4        23         9       2.0          kubica      Polish   Malaysia      No\n",
       "...     ...       ...       ...             ...         ...        ...     ...\n",
       "3133  25001       830       2.0  max_verstappen       Dutch   Portugal      No\n",
       "3134  25002       822       3.0          bottas     Finnish   Portugal      No\n",
       "3135  25020         1       1.0        hamilton     British      Spain      No\n",
       "3136  25021       830       2.0  max_verstappen       Dutch      Spain      No\n",
       "3137  25022       822       3.0          bottas     Finnish      Spain      No\n",
       "\n",
       "[3138 rows x 7 columns]"
      ]
     },
     "execution_count": 8,
     "metadata": {},
     "output_type": "execute_result"
    }
   ],
   "source": [
    "# Define a function for nationality and country.\n",
    "def countries(nationality,country):\n",
    "    if ((nationality== 'American') and (country == 'USA')):\n",
    "        return 'Yes'\n",
    "    elif ((nationality == 'Argentine') and (country == 'Argentina')):\n",
    "        return 'Yes'\n",
    "    elif ((nationality == 'Australian') and (country == 'Australia')):\n",
    "        return 'Yes'\n",
    "    elif ((nationality == 'Austrian') and (country == 'Austria')):\n",
    "        return 'Yes'\n",
    "    elif ((nationality == 'Belgian') and (country == 'Belgium')):\n",
    "        return 'Yes'\n",
    "    elif ((nationality == 'Brazilian') and (country == 'Brazil')):\n",
    "        return 'Yes'\n",
    "    elif ((nationality == 'British') and (country == 'UK')):\n",
    "        return 'Yes'\n",
    "    elif ((nationality == 'Canadian') and (country == 'Canada')):\n",
    "        return 'Yes'\n",
    "    elif ((nationality == 'Dutch') and (country == 'Netherlands')):\n",
    "        return 'Yes'\n",
    "    elif ((nationality == 'East German') and (country == 'Germany')):\n",
    "        return 'Yes'\n",
    "    elif ((nationality == 'French') and (country == 'France')):\n",
    "        return 'Yes'\n",
    "    elif ((nationality == 'German') and (country == 'Germany')):\n",
    "        return 'Yes'\n",
    "    elif ((nationality == 'Hungarian') and (country == 'Hungary')):\n",
    "        return 'Yes'\n",
    "    elif ((nationality == 'Indian') and (country == 'India')):\n",
    "        return 'Yes'\n",
    "    elif ((nationality == 'Italian') and (country == 'Italy')):\n",
    "        return 'Yes'\n",
    "    elif ((nationality == 'Japanese') and (country == 'Japan')):\n",
    "        return 'Yes'\n",
    "    elif ((nationality == 'Liechtensteiner') and (country == 'Germany')):\n",
    "        return 'Yes'\n",
    "    elif ((nationality == 'Malaysian') and (country == 'Malaysia')):\n",
    "        return 'Yes'\n",
    "    elif ((nationality == 'Mexican') and (country == 'Mexico')):\n",
    "        return 'Yes'\n",
    "    elif ((nationality == 'Monegasque') and (country == 'Monaco')):\n",
    "        return 'Yes'\n",
    "    elif ((nationality == 'Portuguese') and (country == 'Portugal')):\n",
    "        return 'Yes'\n",
    "    elif ((nationality == 'Russian') and (country == 'Russia')):\n",
    "        return 'Yes'\n",
    "    elif ((nationality == 'South African') and (country == 'South Africa')):\n",
    "        return 'Yes'\n",
    "    elif ((nationality == 'Spanish') and (country == 'Spain')):\n",
    "        return 'Yes'\n",
    "    elif ((nationality == 'Swedish') and (country == 'Sweden')):\n",
    "        return 'Yes'\n",
    "    elif ((nationality == 'Swiss') and (country == 'Switzerland')):\n",
    "        return 'Yes'\n",
    "    elif ((nationality == 'American-Italian') and (country == 'USA' | country == 'Italy')):\n",
    "        return 'Yes'\n",
    "    elif ((nationality == 'Argentine-Italian') and (country == 'Argentina' | country == 'Italy')):\n",
    "        return 'Yes'\n",
    "    else:\n",
    "        return 'No'\n",
    "    \n",
    "merged_df['homeWin'] = merged_df.apply(lambda x: countries(x['nationality'],x['country']),axis=1)\n",
    "merged_df"
   ]
  },
  {
   "cell_type": "code",
   "execution_count": 9,
   "id": "5b63d683",
   "metadata": {},
   "outputs": [],
   "source": [
    "# Merged_df is saved as a driver_nationality.csv file.\n",
    "merged_df.to_csv('../Resources/Dataset/driver_nationality.csv')"
   ]
  },
  {
   "cell_type": "code",
   "execution_count": 10,
   "id": "b544bddf",
   "metadata": {},
   "outputs": [],
   "source": [
    "# X and Y values.\n",
    "hmw_y = merged_df[['nationality','homeWin']].loc[merged_df['homeWin'] == 'Yes']\n",
    "hmw_y_ct = hmw_y.groupby(['nationality']).count()\n",
    "x = hmw_y['nationality'].unique()\n",
    "x.sort()\n",
    "y = hmw_y_ct['homeWin']"
   ]
  },
  {
   "cell_type": "code",
   "execution_count": 11,
   "id": "5a595730",
   "metadata": {},
   "outputs": [
    {
     "data": {
      "text/plain": [
       "<Figure size 432x288 with 0 Axes>"
      ]
     },
     "metadata": {},
     "output_type": "display_data"
    },
    {
     "data": {
      "image/png": "[encoded data removed]",
      "text/plain": [
       "<Figure size 1080x432 with 1 Axes>"
      ]
     },
     "metadata": {
      "needs_background": "light"
     },
     "output_type": "display_data"
    }
   ],
   "source": [
    "# Plot a Bar chart\n",
    "fig = plt.figure()\n",
    "plt.figure(figsize=(15, 6))\n",
    "plt.bar(x, y)\n",
    "plt.title('Nationality of Racer vs Wins in Home Country')\n",
    "plt.xlabel('Driver Nationality')\n",
    "plt.ylabel('Home Wins')\n",
    "plt.xticks(rotation=45);"
   ]
  },
  {
   "cell_type": "code",
   "execution_count": 12,
   "id": "c0eac703",
   "metadata": {},
   "outputs": [
    {
     "data": {
      "text/plain": [
       "No     2885\n",
       "Yes     253\n",
       "Name: homeWin, dtype: int64"
      ]
     },
     "execution_count": 12,
     "metadata": {},
     "output_type": "execute_result"
    }
   ],
   "source": [
    "# Count the homewin values.\n",
    "home_win = merged_df['homeWin'].value_counts()\n",
    "home_win"
   ]
  },
  {
   "cell_type": "code",
   "execution_count": 13,
   "id": "fc903d02",
   "metadata": {},
   "outputs": [
    {
     "data": {
      "image/png": "[encoded data removed]",
      "text/plain": [
       "<Figure size 432x576 with 1 Axes>"
      ]
     },
     "metadata": {},
     "output_type": "display_data"
    }
   ],
   "source": [
    "# Plot a pie chart\n",
    "x = ['No', 'Yes']\n",
    "y = home_win\n",
    "plt.subplots(figsize=(6, 8))\n",
    "plt.pie(y, labels=x, startangle=90, autopct='%.1f%%')\n",
    "plt.title('Percentage of Wins in Home Country')\n",
    "plt.show()"
   ]
  }
 ],
 "metadata": {
  "kernelspec": {
   "display_name": "mlenv",
   "language": "python",
   "name": "mlenv"
  },
  "language_info": {
   "codemirror_mode": {
    "name": "ipython",
    "version": 3
   },
   "file_extension": ".py",
   "mimetype": "text/x-python",
   "name": "python",
   "nbconvert_exporter": "python",
   "pygments_lexer": "ipython3",
   "version": "3.6.13"
  }
 },
 "nbformat": 4,
 "nbformat_minor": 5
}
