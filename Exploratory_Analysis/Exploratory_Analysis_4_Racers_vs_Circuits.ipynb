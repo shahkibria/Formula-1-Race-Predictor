{
 "cells": [
  {
   "cell_type": "markdown",
   "id": "d7214478",
   "metadata": {},
   "source": [
    "# Exploratory Analysis - 4"
   ]
  },
  {
   "cell_type": "markdown",
   "id": "50b5d55e",
   "metadata": {},
   "source": [
    "#### This analysis is to explore if there is a correlation between winning racers and circuits."
   ]
  },
  {
   "cell_type": "code",
   "execution_count": 1,
   "id": "5a196ca1",
   "metadata": {},
   "outputs": [],
   "source": [
    "%matplotlib inline\n",
    "import pandas as pd\n",
    "import matplotlib.pyplot as plt\n",
    "import re\n",
    "import numpy as np"
   ]
  },
  {
   "cell_type": "code",
   "execution_count": 2,
   "id": "618d612a",
   "metadata": {},
   "outputs": [],
   "source": [
    "#Load files for analysis\n",
    "results_df = pd.read_csv('../Resources/Dataset/results.csv')\n",
    "circuits_df = pd.read_csv('../Resources/Dataset/circuits.csv')\n",
    "constructor_results_df = pd.read_csv('../Resources/Dataset/constructor_results.csv')\n",
    "constructors_df = pd.read_csv('../Resources/Dataset/constructors.csv')\n",
    "drivers_df = pd.read_csv('../Resources/Dataset/drivers.csv')\n",
    "races_df = pd.read_csv('../Resources/Dataset/races.csv')\n",
    "status_df = pd.read_csv('../Resources/Dataset/status.csv')"
   ]
  },
  {
   "cell_type": "markdown",
   "id": "74520f4d",
   "metadata": {},
   "source": [
    "### Merging datasets"
   ]
  },
  {
   "cell_type": "code",
   "execution_count": 3,
   "id": "f5f8c7b6",
   "metadata": {},
   "outputs": [],
   "source": [
    "# Joining datasets\n",
    "\n",
    "#join results with drivers datasets\n",
    "res_dr_df = pd.merge(results_df,drivers_df,how='left',on='driverId', suffixes=('_res','_drv'))\n",
    "\n",
    "#join status dataset\n",
    "res_dr_df_st = pd.merge(res_dr_df, status_df, how='left', on='statusId', suffixes=('_mer1', 'st'))\n",
    "\n",
    "#join races with results\n",
    "res_dr_ra_df = pd.merge(res_dr_df_st,races_df,how='left',on='raceId', suffixes=('_mer2','_rac'))\n",
    "\n",
    "#join circuit dataset\n",
    "res_dr_ra_cir_df = pd.merge(res_dr_ra_df,circuits_df,how='left', on='circuitId', suffixes=('_mer3','_cir'))\n",
    "\n",
    "#join the above with constructor data\n",
    "merged_df = pd.merge(res_dr_ra_cir_df,constructors_df,how='left',on='constructorId', suffixes=('_mer4','_con'))"
   ]
  },
  {
   "cell_type": "code",
   "execution_count": 4,
   "id": "bb8772ff",
   "metadata": {},
   "outputs": [],
   "source": [
    "#Drop columns that are not necessary\n",
    "merged_df = merged_df.drop(columns=['number_res','points','laps','fastestLap','rank','round',\\\n",
    "                                    'statusId','number_drv','code','url_mer2','url_rac','url_mer4',\\\n",
    "                                    'url_con','time_rac'])"
   ]
  },
  {
   "cell_type": "code",
   "execution_count": 5,
   "id": "5b08fec9",
   "metadata": {},
   "outputs": [],
   "source": [
    "#Replace '\\N' with 0 and convert to numeric\n",
    "merged_df['position'] = merged_df['position'].replace({'\\\\N':0})\n",
    "merged_df['position'] = pd.to_numeric(merged_df['position'])"
   ]
  },
  {
   "cell_type": "code",
   "execution_count": 6,
   "id": "8f3f9ccc",
   "metadata": {
    "scrolled": true
   },
   "outputs": [
    {
     "name": "stderr",
     "output_type": "stream",
     "text": [
      "C:\\Users\\User\\anaconda3\\envs\\mlenv\\lib\\site-packages\\ipykernel_launcher.py:1: FutureWarning: The default value of regex will change from True to False in a future version.\n",
      "  \"\"\"Entry point for launching an IPython kernel.\n"
     ]
    }
   ],
   "source": [
    "#Replace all values that have 'laps' at the end in the status column to 'Finished' \n",
    "#as these racers are finished the race anyway\n",
    "merged_df['status'] = merged_df.status.str.replace(\"\\+\\d\\s\\w*|\\+\\d\\d\\s\\w*\", 'Finished')"
   ]
  },
  {
   "cell_type": "markdown",
   "id": "de39e081",
   "metadata": {},
   "source": [
    "## Racer vs Circuit"
   ]
  },
  {
   "cell_type": "markdown",
   "id": "39878d6c",
   "metadata": {},
   "source": [
    "### 2000 to 2009"
   ]
  },
  {
   "cell_type": "code",
   "execution_count": 8,
   "id": "32d489f7",
   "metadata": {
    "scrolled": false
   },
   "outputs": [
    {
     "name": "stdout",
     "output_type": "stream",
     "text": [
      "            surname      circuitRef  races  wins     win_per\n",
      "405        Hamilton    indianapolis      1   1.0  100.000000\n",
      "645           Massa        valencia      1   1.0  100.000000\n",
      "1022         Vettel          suzuka      1   1.0  100.000000\n",
      "1025         Vettel      yas_marina      1   1.0  100.000000\n",
      "403        Hamilton  hockenheimring      1   1.0  100.000000\n",
      "404        Hamilton     hungaroring      3   2.0   66.666667\n",
      "633           Massa        istanbul      5   3.0   60.000000\n",
      "859       Räikkönen             spa      7   4.0   57.142857\n",
      "586          Kubica      villeneuve      2   1.0   50.000000\n",
      "475        Häkkinen     silverstone      2   1.0   50.000000\n",
      "47           Alonso            fuji      2   1.0   50.000000\n",
      "55           Alonso      marina_bay      2   1.0   50.000000\n",
      "419        Hamilton      villeneuve      2   1.0   50.000000\n",
      "409        Hamilton      marina_bay      2   1.0   50.000000\n",
      "402        Hamilton            fuji      2   1.0   50.000000\n",
      "463        Häkkinen       catalunya      2   1.0   50.000000\n",
      "1020         Vettel     silverstone      2   1.0   50.000000\n",
      "465        Häkkinen     hungaroring      2   1.0   50.000000\n",
      "467        Häkkinen    indianapolis      2   1.0   50.000000\n",
      "473        Häkkinen  osterreichring      2   1.0   50.000000\n",
      "476        Häkkinen             spa      2   1.0   50.000000\n",
      "91      Barrichello        valencia      2   1.0   50.000000\n",
      "908      Schumacher           imola     14   6.0   42.857143\n",
      "735   Pablo Montoya      interlagos      5   2.0   40.000000\n",
      "739   Pablo Montoya           monza      5   2.0   40.000000\n",
      "912      Schumacher     magny_cours     14   5.0   35.714286\n",
      "909      Schumacher    indianapolis     14   5.0   35.714286\n",
      "625           Massa         bahrain      6   2.0   33.333333\n",
      "632           Massa      interlagos      6   2.0   33.333333\n",
      "415        Hamilton     silverstone      3   1.0   33.333333\n",
      "1019         Vettel        shanghai      3   1.0   33.333333\n",
      "1016         Vettel           monza      3   1.0   33.333333\n",
      "550      Kovalainen     hungaroring      3   1.0   33.333333\n",
      "45           Alonso         bahrain      6   2.0   33.333333\n",
      "922      Schumacher      villeneuve     15   5.0   33.333333\n",
      "410        Hamilton          monaco      3   1.0   33.333333\n",
      "915      Schumacher     nurburgring     15   5.0   33.333333\n",
      "399        Hamilton     albert_park      3   1.0   33.333333\n",
      "414        Hamilton        shanghai      3   1.0   33.333333\n",
      "906      Schumacher  hockenheimring     13   4.0   30.769231\n",
      "83      Barrichello           monza     10   3.0   30.000000\n",
      "921      Schumacher          suzuka     14   4.0   28.571429\n",
      "58           Alonso     nurburgring      7   2.0   28.571429\n",
      "917      Schumacher          sepang     15   4.0   26.666667\n",
      "902      Schumacher     albert_park     15   4.0   26.666667\n",
      "904      Schumacher       catalunya     15   4.0   26.666667\n",
      "236       Coulthard  osterreichring      4   1.0   25.000000\n",
      "60           Alonso          sepang      8   2.0   25.000000\n",
      "56           Alonso          monaco      8   2.0   25.000000\n",
      "916      Schumacher  osterreichring      8   2.0   25.000000\n",
      "914      Schumacher           monza     13   3.0   23.076923\n",
      "856       Räikkönen          sepang      9   2.0   22.222222\n",
      "842       Räikkönen       catalunya      9   2.0   22.222222\n",
      "233       Coulthard          monaco      9   2.0   22.222222\n",
      "50           Alonso           imola      5   1.0   20.000000\n",
      "731   Pablo Montoya  hockenheimring      5   1.0   20.000000\n",
      "206          Button        istanbul      5   1.0   20.000000\n",
      "849       Räikkönen        istanbul      5   1.0   20.000000\n",
      "643           Massa             spa      5   1.0   20.000000\n",
      "920      Schumacher             spa     10   2.0   20.000000\n",
      "857       Räikkönen        shanghai      6   1.0   16.666667\n",
      "744   Pablo Montoya     silverstone      6   1.0   16.666667\n",
      "738   Pablo Montoya          monaco      6   1.0   16.666667\n",
      "48           Alonso  hockenheimring      6   1.0   16.666667\n",
      "198          Button         bahrain      6   1.0   16.666667\n",
      "634           Massa     magny_cours      6   1.0   16.666667\n",
      "87      Barrichello        shanghai      6   1.0   16.666667\n",
      "61           Alonso        shanghai      6   1.0   16.666667\n",
      "64           Alonso          suzuka      6   1.0   16.666667\n",
      "66           Alonso      villeneuve      7   1.0   14.285714\n",
      "54           Alonso     magny_cours      7   1.0   14.285714\n",
      "1060         Webber     nurburgring      7   1.0   14.285714\n",
      "918      Schumacher        shanghai      7   1.0   14.285714\n",
      "907      Schumacher     hungaroring     14   2.0   14.285714\n",
      "919      Schumacher     silverstone     14   2.0   14.285714\n",
      "903      Schumacher         bahrain      7   1.0   14.285714\n",
      "860       Räikkönen          suzuka      7   1.0   14.285714\n",
      "626           Massa       catalunya      7   1.0   14.285714\n",
      "910      Schumacher      interlagos     15   2.0   13.333333\n",
      "46           Alonso       catalunya      8   1.0   12.500000\n",
      "44           Alonso     albert_park      8   1.0   12.500000\n",
      "850       Räikkönen     magny_cours      8   1.0   12.500000\n",
      "1054         Webber      interlagos      8   1.0   12.500000\n",
      "862       Räikkönen      villeneuve      8   1.0   12.500000\n",
      "74      Barrichello  hockenheimring      8   1.0   12.500000\n",
      "49           Alonso     hungaroring      8   1.0   12.500000\n",
      "77      Barrichello    indianapolis      8   1.0   12.500000\n",
      "90      Barrichello          suzuka      8   1.0   12.500000\n",
      "62           Alonso     silverstone      8   1.0   12.500000\n",
      "57           Alonso           monza      8   1.0   12.500000\n",
      "845       Räikkönen     hungaroring      9   1.0   11.111111\n",
      "199          Button       catalunya      9   1.0   11.111111\n",
      "221       Coulthard     albert_park      9   1.0   11.111111\n",
      "229       Coulthard      interlagos      9   1.0   11.111111\n",
      "231       Coulthard     magny_cours      9   1.0   11.111111\n",
      "239       Coulthard     silverstone      9   1.0   11.111111\n",
      "84      Barrichello     nurburgring      9   1.0   11.111111\n",
      "840       Räikkönen     albert_park      9   1.0   11.111111\n",
      "858       Räikkönen     silverstone      9   1.0   11.111111\n",
      "848       Räikkönen      interlagos      9   1.0   11.111111\n",
      "852       Räikkönen          monaco      9   1.0   11.111111\n",
      "209          Button          monaco      9   1.0   11.111111\n",
      "213          Button          sepang     10   1.0   10.000000\n",
      "88      Barrichello     silverstone     10   1.0   10.000000\n",
      "975          Trulli          monaco     10   1.0   10.000000\n",
      "319      Fisichella          sepang     10   1.0   10.000000\n",
      "311      Fisichella      interlagos     10   1.0   10.000000\n",
      "303      Fisichella     albert_park     10   1.0   10.000000\n",
      "75      Barrichello     hungaroring     10   1.0   10.000000\n",
      "197          Button     albert_park     10   1.0   10.000000\n",
      "202          Button     hungaroring     10   1.0   10.000000\n",
      "913      Schumacher          monaco     15   1.0    6.666667\n"
     ]
    }
   ],
   "source": [
    "#filter data by years\n",
    "circuits_1 = merged_df.loc[(merged_df['year'] >= 2000) & (merged_df['year'] < 2010)]\n",
    "circuits_races_count = circuits_1.groupby(['surname','circuitRef'])['surname'].count().reset_index(name='races')\n",
    "\n",
    "#filter data for winners\n",
    "dr_cir_wins = merged_df.loc[(merged_df['year'] >= 2000) & (merged_df['year'] < 2010) & (merged_df['position'] == 1)]\n",
    "dr_cir_wins_count = dr_cir_wins.groupby(['surname','circuitRef'])['surname'].count().reset_index(name='wins')\n",
    "\n",
    "# transfrom data to create a column with winning percentage\n",
    "merged_df_2 = pd.merge(circuits_races_count, dr_cir_wins_count, how='left', on=['surname','circuitRef'])\n",
    "merged_df_2['wins']=merged_df_2['wins'].fillna(0)\n",
    "merged_df_wins = merged_df_2.loc[merged_df_2['wins'] > 0].sort_values(by='wins',ascending=False)\n",
    "merged_df_wins['win_per'] = (merged_df_2['wins'] / merged_df_2['races']) * 100\n",
    "merged_df_wins = merged_df_wins.sort_values(by='win_per', ascending= False)\n",
    "\n",
    "with pd.option_context('display.max_rows', None, 'display.max_columns', None):\n",
    "    print(merged_df_wins)"
   ]
  },
  {
   "cell_type": "markdown",
   "id": "1e6f6274",
   "metadata": {},
   "source": [
    "### 2010 to 2019"
   ]
  },
  {
   "cell_type": "code",
   "execution_count": 9,
   "id": "36ec53a6",
   "metadata": {
    "scrolled": false
   },
   "outputs": [
    {
     "name": "stdout",
     "output_type": "stream",
     "text": [
      "            surname      circuitRef  races  wins     win_per\n",
      "405        Hamilton    indianapolis      1   1.0  100.000000\n",
      "645           Massa        valencia      1   1.0  100.000000\n",
      "1022         Vettel          suzuka      1   1.0  100.000000\n",
      "1025         Vettel      yas_marina      1   1.0  100.000000\n",
      "403        Hamilton  hockenheimring      1   1.0  100.000000\n",
      "404        Hamilton     hungaroring      3   2.0   66.666667\n",
      "633           Massa        istanbul      5   3.0   60.000000\n",
      "859       Räikkönen             spa      7   4.0   57.142857\n",
      "586          Kubica      villeneuve      2   1.0   50.000000\n",
      "475        Häkkinen     silverstone      2   1.0   50.000000\n",
      "47           Alonso            fuji      2   1.0   50.000000\n",
      "55           Alonso      marina_bay      2   1.0   50.000000\n",
      "419        Hamilton      villeneuve      2   1.0   50.000000\n",
      "409        Hamilton      marina_bay      2   1.0   50.000000\n",
      "402        Hamilton            fuji      2   1.0   50.000000\n",
      "463        Häkkinen       catalunya      2   1.0   50.000000\n",
      "1020         Vettel     silverstone      2   1.0   50.000000\n",
      "465        Häkkinen     hungaroring      2   1.0   50.000000\n",
      "467        Häkkinen    indianapolis      2   1.0   50.000000\n",
      "473        Häkkinen  osterreichring      2   1.0   50.000000\n",
      "476        Häkkinen             spa      2   1.0   50.000000\n",
      "91      Barrichello        valencia      2   1.0   50.000000\n",
      "908      Schumacher           imola     14   6.0   42.857143\n",
      "735   Pablo Montoya      interlagos      5   2.0   40.000000\n",
      "739   Pablo Montoya           monza      5   2.0   40.000000\n",
      "912      Schumacher     magny_cours     14   5.0   35.714286\n",
      "909      Schumacher    indianapolis     14   5.0   35.714286\n",
      "625           Massa         bahrain      6   2.0   33.333333\n",
      "632           Massa      interlagos      6   2.0   33.333333\n",
      "415        Hamilton     silverstone      3   1.0   33.333333\n",
      "1019         Vettel        shanghai      3   1.0   33.333333\n",
      "1016         Vettel           monza      3   1.0   33.333333\n",
      "550      Kovalainen     hungaroring      3   1.0   33.333333\n",
      "45           Alonso         bahrain      6   2.0   33.333333\n",
      "922      Schumacher      villeneuve     15   5.0   33.333333\n",
      "410        Hamilton          monaco      3   1.0   33.333333\n",
      "915      Schumacher     nurburgring     15   5.0   33.333333\n",
      "399        Hamilton     albert_park      3   1.0   33.333333\n",
      "414        Hamilton        shanghai      3   1.0   33.333333\n",
      "906      Schumacher  hockenheimring     13   4.0   30.769231\n",
      "83      Barrichello           monza     10   3.0   30.000000\n",
      "921      Schumacher          suzuka     14   4.0   28.571429\n",
      "58           Alonso     nurburgring      7   2.0   28.571429\n",
      "917      Schumacher          sepang     15   4.0   26.666667\n",
      "902      Schumacher     albert_park     15   4.0   26.666667\n",
      "904      Schumacher       catalunya     15   4.0   26.666667\n",
      "236       Coulthard  osterreichring      4   1.0   25.000000\n",
      "60           Alonso          sepang      8   2.0   25.000000\n",
      "56           Alonso          monaco      8   2.0   25.000000\n",
      "916      Schumacher  osterreichring      8   2.0   25.000000\n",
      "914      Schumacher           monza     13   3.0   23.076923\n",
      "856       Räikkönen          sepang      9   2.0   22.222222\n",
      "842       Räikkönen       catalunya      9   2.0   22.222222\n",
      "233       Coulthard          monaco      9   2.0   22.222222\n",
      "50           Alonso           imola      5   1.0   20.000000\n",
      "731   Pablo Montoya  hockenheimring      5   1.0   20.000000\n",
      "206          Button        istanbul      5   1.0   20.000000\n",
      "849       Räikkönen        istanbul      5   1.0   20.000000\n",
      "643           Massa             spa      5   1.0   20.000000\n",
      "920      Schumacher             spa     10   2.0   20.000000\n",
      "857       Räikkönen        shanghai      6   1.0   16.666667\n",
      "744   Pablo Montoya     silverstone      6   1.0   16.666667\n",
      "738   Pablo Montoya          monaco      6   1.0   16.666667\n",
      "48           Alonso  hockenheimring      6   1.0   16.666667\n",
      "198          Button         bahrain      6   1.0   16.666667\n",
      "634           Massa     magny_cours      6   1.0   16.666667\n",
      "87      Barrichello        shanghai      6   1.0   16.666667\n",
      "61           Alonso        shanghai      6   1.0   16.666667\n",
      "64           Alonso          suzuka      6   1.0   16.666667\n",
      "66           Alonso      villeneuve      7   1.0   14.285714\n",
      "54           Alonso     magny_cours      7   1.0   14.285714\n",
      "1060         Webber     nurburgring      7   1.0   14.285714\n",
      "918      Schumacher        shanghai      7   1.0   14.285714\n",
      "907      Schumacher     hungaroring     14   2.0   14.285714\n",
      "919      Schumacher     silverstone     14   2.0   14.285714\n",
      "903      Schumacher         bahrain      7   1.0   14.285714\n",
      "860       Räikkönen          suzuka      7   1.0   14.285714\n",
      "626           Massa       catalunya      7   1.0   14.285714\n",
      "910      Schumacher      interlagos     15   2.0   13.333333\n",
      "46           Alonso       catalunya      8   1.0   12.500000\n",
      "44           Alonso     albert_park      8   1.0   12.500000\n",
      "850       Räikkönen     magny_cours      8   1.0   12.500000\n",
      "1054         Webber      interlagos      8   1.0   12.500000\n",
      "862       Räikkönen      villeneuve      8   1.0   12.500000\n",
      "74      Barrichello  hockenheimring      8   1.0   12.500000\n",
      "49           Alonso     hungaroring      8   1.0   12.500000\n",
      "77      Barrichello    indianapolis      8   1.0   12.500000\n",
      "90      Barrichello          suzuka      8   1.0   12.500000\n",
      "62           Alonso     silverstone      8   1.0   12.500000\n",
      "57           Alonso           monza      8   1.0   12.500000\n",
      "845       Räikkönen     hungaroring      9   1.0   11.111111\n",
      "199          Button       catalunya      9   1.0   11.111111\n",
      "221       Coulthard     albert_park      9   1.0   11.111111\n",
      "229       Coulthard      interlagos      9   1.0   11.111111\n",
      "231       Coulthard     magny_cours      9   1.0   11.111111\n",
      "239       Coulthard     silverstone      9   1.0   11.111111\n",
      "84      Barrichello     nurburgring      9   1.0   11.111111\n",
      "840       Räikkönen     albert_park      9   1.0   11.111111\n",
      "858       Räikkönen     silverstone      9   1.0   11.111111\n",
      "848       Räikkönen      interlagos      9   1.0   11.111111\n",
      "852       Räikkönen          monaco      9   1.0   11.111111\n",
      "209          Button          monaco      9   1.0   11.111111\n",
      "213          Button          sepang     10   1.0   10.000000\n",
      "88      Barrichello     silverstone     10   1.0   10.000000\n",
      "975          Trulli          monaco     10   1.0   10.000000\n",
      "319      Fisichella          sepang     10   1.0   10.000000\n",
      "311      Fisichella      interlagos     10   1.0   10.000000\n",
      "303      Fisichella     albert_park     10   1.0   10.000000\n",
      "75      Barrichello     hungaroring     10   1.0   10.000000\n",
      "197          Button     albert_park     10   1.0   10.000000\n",
      "202          Button     hungaroring     10   1.0   10.000000\n",
      "913      Schumacher          monaco     15   1.0    6.666667\n"
     ]
    }
   ],
   "source": [
    "#filter data by years\n",
    "circuits_1 = merged_df.loc[(merged_df['year'] >= 2000) & (merged_df['year'] < 2010)]\n",
    "circuits_races_count = circuits_1.groupby(['surname','circuitRef'])['surname'].count().reset_index(name='races')\n",
    "\n",
    "#filter data for winners\n",
    "dr_cir_wins = merged_df.loc[(merged_df['year'] >= 2000) & (merged_df['year'] < 2010) & (merged_df['position'] == 1)]\n",
    "dr_cir_wins_count = dr_cir_wins.groupby(['surname','circuitRef'])['surname'].count().reset_index(name='wins')\n",
    "\n",
    "# transfrom data to create a column with winning percentage\n",
    "merged_df_2 = pd.merge(circuits_races_count, dr_cir_wins_count, how='left', on=['surname','circuitRef'])\n",
    "merged_df_2['wins']=merged_df_2['wins'].fillna(0)\n",
    "merged_df_wins = merged_df_2.loc[merged_df_2['wins'] > 0].sort_values(by='wins',ascending=False)\n",
    "merged_df_wins['win_per'] = (merged_df_2['wins'] / merged_df_2['races']) * 100\n",
    "merged_df_wins = merged_df_wins.sort_values(by='win_per', ascending= False)\n",
    "\n",
    "with pd.option_context('display.max_rows', None, 'display.max_columns', None):\n",
    "    print(merged_df_wins)"
   ]
  },
  {
   "cell_type": "markdown",
   "id": "d1ac8dd8",
   "metadata": {},
   "source": [
    "#### Conclusion: There is no clear trend between races and circuit."
   ]
  }
 ],
 "metadata": {
  "kernelspec": {
   "display_name": "mlenv",
   "language": "python",
   "name": "mlenv"
  },
  "language_info": {
   "codemirror_mode": {
    "name": "ipython",
    "version": 3
   },
   "file_extension": ".py",
   "mimetype": "text/x-python",
   "name": "python",
   "nbconvert_exporter": "python",
   "pygments_lexer": "ipython3",
   "version": "3.7.10"
  }
 },
 "nbformat": 4,
 "nbformat_minor": 5
}
