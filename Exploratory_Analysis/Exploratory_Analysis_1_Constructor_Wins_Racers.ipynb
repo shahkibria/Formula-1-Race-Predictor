{
 "cells": [
  {
   "cell_type": "markdown",
   "id": "d7214478",
   "metadata": {},
   "source": [
    "# Exploratory Analysis - 1"
   ]
  },
  {
   "cell_type": "markdown",
   "id": "1793ac15",
   "metadata": {},
   "source": [
    "#### This analysis is to explore if there is a trend in wins registered by Constructors, based on Racer wins. The official way."
   ]
  },
  {
   "cell_type": "code",
   "execution_count": 1,
   "id": "5a196ca1",
   "metadata": {},
   "outputs": [],
   "source": [
    "%matplotlib inline\n",
    "import pandas as pd\n",
    "import matplotlib.pyplot as plt\n",
    "import re\n",
    "import numpy as np"
   ]
  },
  {
   "cell_type": "code",
   "execution_count": 2,
   "id": "618d612a",
   "metadata": {},
   "outputs": [],
   "source": [
    "#Load files for analysis\n",
    "results_df = pd.read_csv('../Resources/Dataset/results.csv')\n",
    "circuits_df = pd.read_csv('../Resources/Dataset/circuits.csv')\n",
    "constructor_results_df = pd.read_csv('../Resources/Dataset/constructor_results.csv')\n",
    "constructors_df = pd.read_csv('../Resources/Dataset/constructors.csv')\n",
    "drivers_df = pd.read_csv('../Resources/Dataset/drivers.csv')\n",
    "races_df = pd.read_csv('../Resources/Dataset/races.csv')\n",
    "status_df = pd.read_csv('../Resources/Dataset/status.csv')"
   ]
  },
  {
   "cell_type": "markdown",
   "id": "74520f4d",
   "metadata": {},
   "source": [
    "### Merging datasets"
   ]
  },
  {
   "cell_type": "code",
   "execution_count": 3,
   "id": "f5f8c7b6",
   "metadata": {},
   "outputs": [],
   "source": [
    "# Joining datasets\n",
    "\n",
    "#join results with drivers datasets\n",
    "res_dr_df = pd.merge(results_df,drivers_df,how='left',on='driverId', suffixes=('_res','_drv'))\n",
    "\n",
    "#join status dataset\n",
    "res_dr_df_st = pd.merge(res_dr_df, status_df, how='left', on='statusId', suffixes=('_mer1', 'st'))\n",
    "\n",
    "#join races with results\n",
    "res_dr_ra_df = pd.merge(res_dr_df_st,races_df,how='left',on='raceId', suffixes=('_mer2','_rac'))\n",
    "\n",
    "#join circuit dataset\n",
    "res_dr_ra_cir_df = pd.merge(res_dr_ra_df,circuits_df,how='left', on='circuitId', suffixes=('_mer3','_cir'))\n",
    "\n",
    "#join the above with constructor data\n",
    "merged_df = pd.merge(res_dr_ra_cir_df,constructors_df,how='left',on='constructorId', suffixes=('_mer4','_con'))"
   ]
  },
  {
   "cell_type": "code",
   "execution_count": 4,
   "id": "bb8772ff",
   "metadata": {},
   "outputs": [],
   "source": [
    "#Drop columns that are not necessary\n",
    "merged_df = merged_df.drop(columns=['number_res','points','laps','fastestLap','rank','round',\\\n",
    "                                    'statusId','number_drv','code','url_mer2','url_rac','url_mer4',\\\n",
    "                                    'url_con','time_rac'])"
   ]
  },
  {
   "cell_type": "code",
   "execution_count": 5,
   "id": "5b08fec9",
   "metadata": {},
   "outputs": [],
   "source": [
    "#Replace '\\N' with 0 and convert to numeric\n",
    "merged_df['position'] = merged_df['position'].replace({'\\\\N':0})\n",
    "merged_df['position'] = pd.to_numeric(merged_df['position'])"
   ]
  },
  {
   "cell_type": "code",
   "execution_count": 6,
   "id": "8f3f9ccc",
   "metadata": {
    "scrolled": true
   },
   "outputs": [
    {
     "name": "stderr",
     "output_type": "stream",
     "text": [
      "C:\\Users\\User\\anaconda3\\envs\\mlenv\\lib\\site-packages\\ipykernel_launcher.py:1: FutureWarning: The default value of regex will change from True to False in a future version.\n",
      "  \"\"\"Entry point for launching an IPython kernel.\n"
     ]
    }
   ],
   "source": [
    "#Replace all values that have 'laps' at the end in the status column to 'Finished' \n",
    "#as these races are finished the race anyway\n",
    "merged_df['status'] = merged_df.status.str.replace(\"\\+\\d\\s\\w*|\\+\\d\\d\\s\\w*\", 'Finished')"
   ]
  },
  {
   "cell_type": "markdown",
   "id": "de46cfd1",
   "metadata": {},
   "source": [
    "## Constructor Wins (Racer)"
   ]
  },
  {
   "cell_type": "markdown",
   "id": "1074db55",
   "metadata": {},
   "source": [
    "### 2000 to 2009"
   ]
  },
  {
   "cell_type": "code",
   "execution_count": 7,
   "id": "fa933d51",
   "metadata": {},
   "outputs": [],
   "source": [
    "# filter data by years for non winners and group by name\n",
    "cons_races = merged_df.loc[(merged_df['year']>=2000) & (merged_df['year']<2010) & (merged_df['position']!=0)]\n",
    "cons_races_tot = cons_races.groupby(['name'])['position'].count().sort_values(ascending=False)"
   ]
  },
  {
   "cell_type": "code",
   "execution_count": 8,
   "id": "ba1454fd",
   "metadata": {},
   "outputs": [],
   "source": [
    "# filter data by years for winners and group by name\n",
    "cons_st = merged_df.loc[(merged_df['year']>=2000) & (merged_df['year']<2010) & (merged_df['position']==1)]\n",
    "cons_st_wins = cons_st.groupby(['name'])['position'].count().sort_values(ascending=False)"
   ]
  },
  {
   "cell_type": "code",
   "execution_count": 9,
   "id": "28f262d9",
   "metadata": {},
   "outputs": [],
   "source": [
    "#merge dataframes and create column with percentage of races won\n",
    "cons_stats_df = pd.merge(cons_races_tot, cons_st_wins, how='left', on='name')\n",
    "cons_stats_df = cons_stats_df.rename(columns={'position_x':'races','position_y':'wins'})\n",
    "cons_stats_df['win_perc'] = ((cons_stats_df['wins'] / cons_stats_df['races']) * 100)\n",
    "cons_stats_df = cons_stats_df.sort_values(ascending=False, by='win_perc')"
   ]
  },
  {
   "cell_type": "code",
   "execution_count": 10,
   "id": "4339035a",
   "metadata": {},
   "outputs": [],
   "source": [
    "#convert index to list for x-axis\n",
    "x_axis = cons_stats_df.index.tolist()"
   ]
  },
  {
   "cell_type": "code",
   "execution_count": 11,
   "id": "5f73d364",
   "metadata": {},
   "outputs": [],
   "source": [
    "# creating y-axis\n",
    "y_axis = cons_stats_df.groupby(['name'], sort=True)['win_perc'].sum().sort_values(ascending=False)"
   ]
  },
  {
   "cell_type": "code",
   "execution_count": 12,
   "id": "dc8af00a",
   "metadata": {
    "scrolled": false
   },
   "outputs": [
    {
     "data": {
      "text/plain": [
       "<Figure size 432x288 with 0 Axes>"
      ]
     },
     "metadata": {},
     "output_type": "display_data"
    },
    {
     "data": {
      "image/png": "[encoded data removed]",
      "text/plain": [
       "<Figure size 1152x432 with 1 Axes>"
      ]
     },
     "metadata": {
      "needs_background": "light"
     },
     "output_type": "display_data"
    }
   ],
   "source": [
    "# Plot both axis\n",
    "fig = plt.figure()\n",
    "plt.figure(figsize=(16,6))\n",
    "plt.bar(x_axis, y_axis)\n",
    "plt.title('Races won by Constructors (2000 to 2009)')\n",
    "plt.xlabel(\"Constructor Name\")\n",
    "plt.ylabel(\"Percentage of Races won\")\n",
    "plt.xticks(rotation=45);"
   ]
  },
  {
   "cell_type": "markdown",
   "id": "ed95cee6",
   "metadata": {},
   "source": [
    "### 2010 to 2019"
   ]
  },
  {
   "cell_type": "code",
   "execution_count": 13,
   "id": "61dfc8e5",
   "metadata": {},
   "outputs": [],
   "source": [
    "# filter data by years for all other than winners\n",
    "cons_races = merged_df.loc[(merged_df['year']>=2010) & (merged_df['year']<2020) & (merged_df['position']!=0)]\n",
    "cons_races_tot = cons_races.groupby(['name'])['position'].count().sort_values(ascending=False)"
   ]
  },
  {
   "cell_type": "code",
   "execution_count": 14,
   "id": "11cc9ec6",
   "metadata": {},
   "outputs": [],
   "source": [
    "# filter data by years for winners and group by name\n",
    "cons_st = merged_df.loc[(merged_df['year']>=2010) & (merged_df['year']<2020) & (merged_df['position']==1)]\n",
    "cons_st_wins = cons_st.groupby(['name'])['position'].count().sort_values(ascending=False)"
   ]
  },
  {
   "cell_type": "code",
   "execution_count": 15,
   "id": "a5a8f226",
   "metadata": {},
   "outputs": [],
   "source": [
    "#merge dataframes and create column with percentage of races won\n",
    "cons_stats_df2 = pd.merge(cons_races_tot, cons_st_wins, how='left', on='name')\n",
    "cons_stats_df2 = cons_stats_df2.rename(columns={'position_x':'races','position_y':'wins'})\n",
    "cons_stats_df2['win_perc'] = ((cons_stats_df2['wins'] / cons_stats_df2['races']) * 100)\n",
    "cons_stats_df2 = cons_stats_df2.sort_values(ascending=False, by='win_perc')"
   ]
  },
  {
   "cell_type": "code",
   "execution_count": 16,
   "id": "e3a6e717",
   "metadata": {},
   "outputs": [],
   "source": [
    "#merging dataframes\n",
    "cons_stats_final_df = cons_stats_df.add(cons_stats_df2, fill_value =0)"
   ]
  },
  {
   "cell_type": "code",
   "execution_count": 17,
   "id": "700b5136",
   "metadata": {},
   "outputs": [],
   "source": [
    "#convert index to list for x-axis\n",
    "x_axis = cons_stats_df2.index.tolist()"
   ]
  },
  {
   "cell_type": "code",
   "execution_count": 18,
   "id": "8cffa2c5",
   "metadata": {},
   "outputs": [],
   "source": [
    "#creating y-axis\n",
    "y_axis = cons_stats_df2.groupby(['name'], sort=True)['win_perc'].sum().sort_values(ascending=False)"
   ]
  },
  {
   "cell_type": "code",
   "execution_count": 19,
   "id": "361285a9",
   "metadata": {
    "scrolled": false
   },
   "outputs": [
    {
     "data": {
      "text/plain": [
       "<Figure size 432x288 with 0 Axes>"
      ]
     },
     "metadata": {},
     "output_type": "display_data"
    },
    {
     "data": {
      "image/png": "[encoded data removed]",
      "text/plain": [
       "<Figure size 1152x432 with 1 Axes>"
      ]
     },
     "metadata": {
      "needs_background": "light"
     },
     "output_type": "display_data"
    }
   ],
   "source": [
    "# Plot both axis\n",
    "fig = plt.figure()\n",
    "plt.figure(figsize=(16,6))\n",
    "plt.bar(x_axis, y_axis)\n",
    "plt.title('Races won by Constructors (2010 to 2019)')\n",
    "plt.xlabel(\"Constructors Name\")\n",
    "plt.ylabel(\"Percentage of Races won\")\n",
    "plt.xticks(rotation=45);"
   ]
  },
  {
   "cell_type": "markdown",
   "id": "eb10138a",
   "metadata": {},
   "source": [
    "#### Conclusion: It is evident that for the last 20 years, only a select few constructors are winning the races. It is known that these constructors spend a lot of money and respources to advance their technological capabilities."
   ]
  },
  {
   "cell_type": "code",
   "execution_count": null,
   "id": "752b687a",
   "metadata": {},
   "outputs": [],
   "source": []
  }
 ],
 "metadata": {
  "kernelspec": {
   "display_name": "mlenv",
   "language": "python",
   "name": "mlenv"
  },
  "language_info": {
   "codemirror_mode": {
    "name": "ipython",
    "version": 3
   },
   "file_extension": ".py",
   "mimetype": "text/x-python",
   "name": "python",
   "nbconvert_exporter": "python",
   "pygments_lexer": "ipython3",
   "version": "3.7.10"
  }
 },
 "nbformat": 4,
 "nbformat_minor": 5
}
