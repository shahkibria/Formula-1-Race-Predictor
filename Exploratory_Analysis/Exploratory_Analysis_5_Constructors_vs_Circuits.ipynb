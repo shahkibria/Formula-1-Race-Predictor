{
 "cells": [
  {
   "cell_type": "markdown",
   "id": "d7214478",
   "metadata": {},
   "source": [
    "# Exploratory Analysis - 5"
   ]
  },
  {
   "cell_type": "markdown",
   "id": "50b5d55e",
   "metadata": {},
   "source": [
    "#### This analysis is to explore if there is a correlation between winning constructors and circuits."
   ]
  },
  {
   "cell_type": "code",
   "execution_count": 1,
   "id": "5a196ca1",
   "metadata": {},
   "outputs": [],
   "source": [
    "%matplotlib inline\n",
    "import pandas as pd\n",
    "import matplotlib.pyplot as plt\n",
    "import re\n",
    "import numpy as np"
   ]
  },
  {
   "cell_type": "code",
   "execution_count": 2,
   "id": "618d612a",
   "metadata": {},
   "outputs": [],
   "source": [
    "#Load files for analysis\n",
    "results_df = pd.read_csv('../Resources/Dataset/results.csv')\n",
    "circuits_df = pd.read_csv('../Resources/Dataset/circuits.csv')\n",
    "constructor_results_df = pd.read_csv('../Resources/Dataset/constructor_results.csv')\n",
    "constructors_df = pd.read_csv('../Resources/Dataset/constructors.csv')\n",
    "drivers_df = pd.read_csv('../Resources/Dataset/drivers.csv')\n",
    "races_df = pd.read_csv('../Resources/Dataset/races.csv')\n",
    "status_df = pd.read_csv('../Resources/Dataset/status.csv')"
   ]
  },
  {
   "cell_type": "markdown",
   "id": "74520f4d",
   "metadata": {},
   "source": [
    "### Merging datasets"
   ]
  },
  {
   "cell_type": "code",
   "execution_count": 3,
   "id": "f5f8c7b6",
   "metadata": {},
   "outputs": [],
   "source": [
    "# Joining datasets\n",
    "\n",
    "#join results with drivers datasets\n",
    "res_dr_df = pd.merge(results_df,drivers_df,how='left',on='driverId', suffixes=('_res','_drv'))\n",
    "\n",
    "#join status dataset\n",
    "res_dr_df_st = pd.merge(res_dr_df, status_df, how='left', on='statusId', suffixes=('_mer1', 'st'))\n",
    "\n",
    "#join races with results\n",
    "res_dr_ra_df = pd.merge(res_dr_df_st,races_df,how='left',on='raceId', suffixes=('_mer2','_rac'))\n",
    "\n",
    "#join circuit dataset\n",
    "res_dr_ra_cir_df = pd.merge(res_dr_ra_df,circuits_df,how='left', on='circuitId', suffixes=('_mer3','_cir'))\n",
    "\n",
    "#join the above with constructor data\n",
    "merged_df = pd.merge(res_dr_ra_cir_df,constructors_df,how='left',on='constructorId', suffixes=('_mer4','_con'))"
   ]
  },
  {
   "cell_type": "code",
   "execution_count": 4,
   "id": "bb8772ff",
   "metadata": {},
   "outputs": [],
   "source": [
    "#Drop columns that are not necessary\n",
    "merged_df = merged_df.drop(columns=['number_res','points','laps','fastestLap','rank','round',\\\n",
    "                                    'statusId','number_drv','code','url_mer2','url_rac','url_mer4',\\\n",
    "                                    'url_con','time_rac'])"
   ]
  },
  {
   "cell_type": "code",
   "execution_count": 5,
   "id": "5b08fec9",
   "metadata": {},
   "outputs": [],
   "source": [
    "#Replace '\\N' with 0 and convert to numeric\n",
    "merged_df['position'] = merged_df['position'].replace({'\\\\N':0})\n",
    "merged_df['position'] = pd.to_numeric(merged_df['position'])"
   ]
  },
  {
   "cell_type": "code",
   "execution_count": 6,
   "id": "8f3f9ccc",
   "metadata": {
    "scrolled": true
   },
   "outputs": [
    {
     "name": "stderr",
     "output_type": "stream",
     "text": [
      "C:\\Users\\User\\anaconda3\\envs\\mlenv\\lib\\site-packages\\ipykernel_launcher.py:1: FutureWarning: The default value of regex will change from True to False in a future version.\n",
      "  \"\"\"Entry point for launching an IPython kernel.\n"
     ]
    }
   ],
   "source": [
    "#Replace all values that have 'laps' at the end in the status column to 'Finished' \n",
    "#as these racers are finished the race anyway\n",
    "merged_df['status'] = merged_df.status.str.replace(\"\\+\\d\\s\\w*|\\+\\d\\d\\s\\w*\", 'Finished')"
   ]
  },
  {
   "cell_type": "markdown",
   "id": "de39e081",
   "metadata": {},
   "source": [
    "## Racer vs Circuit"
   ]
  },
  {
   "cell_type": "markdown",
   "id": "18bfc71f",
   "metadata": {},
   "source": [
    "### 2000 to 2009"
   ]
  },
  {
   "cell_type": "code",
   "execution_count": 7,
   "id": "32d489f7",
   "metadata": {
    "scrolled": false
   },
   "outputs": [],
   "source": [
    "#filter data by years\n",
    "circuits_1 = merged_df.loc[(merged_df['year'] >= 2000) & (merged_df['year'] < 2010)]\n",
    "circuits_races_count = circuits_1.groupby(['name','circuitRef'])['surname'].count().reset_index(name='races')"
   ]
  },
  {
   "cell_type": "code",
   "execution_count": 8,
   "id": "8beb8db3",
   "metadata": {
    "scrolled": false
   },
   "outputs": [],
   "source": [
    "#filter data for winners\n",
    "dr_cir_wins = merged_df.loc[(merged_df['year'] >= 2000) & (merged_df['year'] < 2010) & (merged_df['position'] == 1)]\n",
    "dr_cir_wins_count = dr_cir_wins.groupby(['name','circuitRef'])['surname'].count().reset_index(name='wins')"
   ]
  },
  {
   "cell_type": "code",
   "execution_count": 9,
   "id": "7ed96d95",
   "metadata": {
    "scrolled": false
   },
   "outputs": [],
   "source": [
    "# transfrom data to create a column with winning percentage\n",
    "merged_df_2 = pd.merge(circuits_races_count, dr_cir_wins_count, how='left', on=['name','circuitRef'])\n",
    "merged_df_2['wins']=merged_df_2['wins'].fillna(0)\n",
    "merged_df_wins = merged_df_2.loc[merged_df_2['wins'] > 0].sort_values(by='wins',ascending=False)\n",
    "merged_df_wins['win_per'] = (merged_df_2['wins'] / merged_df_2['races']) * 100\n",
    "merged_df_wins = merged_df_wins.sort_values(by='win_per', ascending= False)"
   ]
  },
  {
   "cell_type": "code",
   "execution_count": 10,
   "id": "c07d9d6a",
   "metadata": {
    "scrolled": false
   },
   "outputs": [
    {
     "name": "stdout",
     "output_type": "stream",
     "text": [
      "           name      circuitRef  races  wins    win_per\n",
      "297    Red Bull      yas_marina      2   1.0  50.000000\n",
      "78        Brawn         bahrain      2   1.0  50.000000\n",
      "79        Brawn       catalunya      2   1.0  50.000000\n",
      "82        Brawn        istanbul      2   1.0  50.000000\n",
      "84        Brawn          monaco      2   1.0  50.000000\n",
      "85        Brawn           monza      2   1.0  50.000000\n",
      "87        Brawn          sepang      2   1.0  50.000000\n",
      "92        Brawn        valencia      2   1.0  50.000000\n",
      "77        Brawn     albert_park      2   1.0  50.000000\n",
      "101     Ferrari    indianapolis     16   6.0  37.500000\n",
      "100     Ferrari           imola     14   5.0  35.714286\n",
      "104     Ferrari     magny_cours     18   6.0  33.333333\n",
      "114     Ferrari          suzuka     16   5.0  31.250000\n",
      "113     Ferrari             spa     16   5.0  31.250000\n",
      "103     Ferrari        istanbul     10   3.0  30.000000\n",
      "96      Ferrari       catalunya     20   6.0  30.000000\n",
      "108     Ferrari     nurburgring     18   5.0  27.777778\n",
      "229     McLaren  osterreichring      8   2.0  25.000000\n",
      "226     McLaren          monaco     20   5.0  25.000000\n",
      "109     Ferrari  osterreichring      8   2.0  25.000000\n",
      "301     Renault            fuji      4   1.0  25.000000\n",
      "107     Ferrari           monza     20   5.0  25.000000\n",
      "102     Ferrari      interlagos     20   5.0  25.000000\n",
      "111     Ferrari        shanghai     12   3.0  25.000000\n",
      "219     McLaren     hungaroring     20   5.0  25.000000\n",
      "94      Ferrari     albert_park     20   5.0  25.000000\n",
      "217     McLaren            fuji      4   1.0  25.000000\n",
      "98      Ferrari  hockenheimring     16   4.0  25.000000\n",
      "115     Ferrari        valencia      4   1.0  25.000000\n",
      "309     Renault      marina_bay      4   1.0  25.000000\n",
      "225     McLaren      marina_bay      4   1.0  25.000000\n",
      "95      Ferrari         bahrain     12   3.0  25.000000\n",
      "116     Ferrari      villeneuve     18   4.0  22.222222\n",
      "232     McLaren     silverstone     20   4.0  20.000000\n",
      "112     Ferrari     silverstone     20   4.0  20.000000\n",
      "110     Ferrari          sepang     20   4.0  20.000000\n",
      "233     McLaren             spa     16   3.0  18.750000\n",
      "58   BMW Sauber      villeneuve      6   1.0  16.666667\n",
      "294    Red Bull          suzuka      6   1.0  16.666667\n",
      "144       Honda     hungaroring      6   1.0  16.666667\n",
      "299     Renault         bahrain     12   2.0  16.666667\n",
      "99      Ferrari     hungaroring     20   3.0  15.000000\n",
      "396  Toro Rosso           monza      8   1.0  12.500000\n",
      "434    Williams  hockenheimring     16   2.0  12.500000\n",
      "298     Renault     albert_park     16   2.0  12.500000\n",
      "310     Renault          monaco     16   2.0  12.500000\n",
      "314     Renault          sepang     16   2.0  12.500000\n",
      "221     McLaren    indianapolis     16   2.0  12.500000\n",
      "289    Red Bull     nurburgring      8   1.0  12.500000\n",
      "236     McLaren      villeneuve     18   2.0  11.111111\n",
      "291    Red Bull        shanghai     10   1.0  10.000000\n",
      "223     McLaren        istanbul     10   1.0  10.000000\n",
      "230     McLaren          sepang     20   2.0  10.000000\n",
      "216     McLaren       catalunya     20   2.0  10.000000\n",
      "227     McLaren           monza     20   2.0  10.000000\n",
      "283    Red Bull      interlagos     10   1.0  10.000000\n",
      "222     McLaren      interlagos     20   2.0  10.000000\n",
      "304     Renault           imola     10   1.0  10.000000\n",
      "214     McLaren     albert_park     20   2.0  10.000000\n",
      "292    Red Bull     silverstone     10   1.0  10.000000\n",
      "231     McLaren        shanghai     12   1.0   8.333333\n",
      "315     Renault        shanghai     12   1.0   8.333333\n",
      "318     Renault          suzuka     12   1.0   8.333333\n",
      "302     Renault  hockenheimring     12   1.0   8.333333\n",
      "187      Jordan      interlagos     12   1.0   8.333333\n",
      "320     Renault      villeneuve     14   1.0   7.142857\n",
      "312     Renault     nurburgring     14   1.0   7.142857\n",
      "436    Williams           imola     14   1.0   7.142857\n",
      "308     Renault     magny_cours     14   1.0   7.142857\n",
      "218     McLaren  hockenheimring     16   1.0   6.250000\n",
      "234     McLaren          suzuka     16   1.0   6.250000\n",
      "303     Renault     hungaroring     16   1.0   6.250000\n",
      "316     Renault     silverstone     16   1.0   6.250000\n",
      "300     Renault       catalunya     16   1.0   6.250000\n",
      "224     McLaren     magny_cours     18   1.0   5.555556\n",
      "228     McLaren     nurburgring     18   1.0   5.555556\n",
      "444    Williams     nurburgring     18   1.0   5.555556\n",
      "440    Williams     magny_cours     18   1.0   5.555556\n",
      "452    Williams      villeneuve     18   1.0   5.555556\n",
      "106     Ferrari          monaco     20   1.0   5.000000\n",
      "438    Williams      interlagos     20   1.0   5.000000\n",
      "442    Williams          monaco     20   1.0   5.000000\n",
      "443    Williams           monza     20   1.0   5.000000\n",
      "446    Williams          sepang     20   1.0   5.000000\n"
     ]
    }
   ],
   "source": [
    "#display all rows\n",
    "with pd.option_context('display.max_rows', None, 'display.max_columns', None):\n",
    "    print(merged_df_wins)"
   ]
  },
  {
   "cell_type": "markdown",
   "id": "57dc63ef",
   "metadata": {},
   "source": [
    "### 2010 to 2019"
   ]
  },
  {
   "cell_type": "code",
   "execution_count": 11,
   "id": "cdad3c9a",
   "metadata": {
    "scrolled": false
   },
   "outputs": [],
   "source": [
    "#filter data by years\n",
    "circuits_1 = merged_df.loc[(merged_df['year'] >= 2010) & (merged_df['year'] < 2020)]\n",
    "circuits_races_count = circuits_1.groupby(['name','circuitRef'])['surname'].count().reset_index(name='races')"
   ]
  },
  {
   "cell_type": "code",
   "execution_count": 12,
   "id": "41dbb092",
   "metadata": {
    "scrolled": false
   },
   "outputs": [],
   "source": [
    "#filter data for winners\n",
    "dr_cir_wins = merged_df.loc[(merged_df['year'] >= 2010) & (merged_df['year'] < 2020) & (merged_df['position'] == 1)]\n",
    "dr_cir_wins_count = dr_cir_wins.groupby(['name','circuitRef'])['surname'].count().reset_index(name='wins')"
   ]
  },
  {
   "cell_type": "code",
   "execution_count": 13,
   "id": "147cdbe7",
   "metadata": {
    "scrolled": false
   },
   "outputs": [],
   "source": [
    "# transfrom data to create a column with winning percentage\n",
    "merged_df_2 = pd.merge(circuits_races_count, dr_cir_wins_count, how='left', on=['name','circuitRef'])\n",
    "merged_df_2['wins']=merged_df_2['wins'].fillna(0)\n",
    "merged_df_wins = merged_df_2.loc[merged_df_2['wins'] > 0].sort_values(by='wins',ascending=False)\n",
    "merged_df_wins['win_per'] = (merged_df_2['wins'] / merged_df_2['races']) * 100\n",
    "merged_df_wins = merged_df_wins.sort_values(by='win_per', ascending= False)"
   ]
  },
  {
   "cell_type": "code",
   "execution_count": 14,
   "id": "5cafe6f5",
   "metadata": {
    "scrolled": false
   },
   "outputs": [
    {
     "name": "stdout",
     "output_type": "stream",
     "text": [
      "         name      circuitRef  races  wins    win_per\n",
      "273  Mercedes          ricard      4   2.0  50.000000\n",
      "278  Mercedes           sochi     12   6.0  50.000000\n",
      "310  Red Bull           buddh      6   3.0  50.000000\n",
      "332  Red Bull         yeongam      8   3.0  37.500000\n",
      "258  Mercedes             BAK      8   3.0  37.500000\n",
      "272  Mercedes   red_bull_ring     12   4.0  33.333333\n",
      "329  Red Bull        valencia      6   2.0  33.333333\n",
      "260  Mercedes        americas     16   5.0  31.250000\n",
      "323  Red Bull          sepang     16   5.0  31.250000\n",
      "283  Mercedes      yas_marina     20   6.0  30.000000\n",
      "276  Mercedes        shanghai     20   6.0  30.000000\n",
      "280  Mercedes          suzuka     20   6.0  30.000000\n",
      "277  Mercedes     silverstone     20   6.0  30.000000\n",
      "274  Mercedes       rodriguez     10   3.0  30.000000\n",
      "263  Mercedes       catalunya     20   5.0  25.000000\n",
      "264  Mercedes  hockenheimring     12   3.0  25.000000\n",
      "319  Red Bull     nurburgring      4   1.0  25.000000\n",
      "270  Mercedes           monza     20   5.0  25.000000\n",
      "315  Red Bull        istanbul      4   1.0  25.000000\n",
      "240   McLaren        istanbul      4   1.0  25.000000\n",
      "269  Mercedes          monaco     20   5.0  25.000000\n",
      "244   McLaren     nurburgring      4   1.0  25.000000\n",
      "261  Mercedes         bahrain     18   4.0  22.222222\n",
      "317  Red Bull          monaco     20   4.0  20.000000\n",
      "268  Mercedes      marina_bay     20   4.0  20.000000\n",
      "266  Mercedes      interlagos     20   4.0  20.000000\n",
      "265  Mercedes     hungaroring     20   4.0  20.000000\n",
      "314  Red Bull      interlagos     20   4.0  20.000000\n",
      "322  Red Bull       rodriguez     10   2.0  20.000000\n",
      "259  Mercedes     albert_park     20   4.0  20.000000\n",
      "282  Mercedes      villeneuve     20   4.0  20.000000\n",
      "67    Ferrari        valencia      6   1.0  16.666667\n",
      "50    Ferrari  hockenheimring     12   2.0  16.666667\n",
      "320  Red Bull   red_bull_ring     12   2.0  16.666667\n",
      "47    Ferrari         bahrain     18   3.0  16.666667\n",
      "54    Ferrari      marina_bay     20   3.0  15.000000\n",
      "327  Red Bull             spa     20   3.0  15.000000\n",
      "255   McLaren      villeneuve     20   3.0  15.000000\n",
      "328  Red Bull          suzuka     20   3.0  15.000000\n",
      "316  Red Bull      marina_bay     20   3.0  15.000000\n",
      "311  Red Bull       catalunya     20   3.0  15.000000\n",
      "279  Mercedes             spa     20   3.0  15.000000\n",
      "70    Ferrari         yeongam      8   1.0  12.500000\n",
      "306  Red Bull             BAK      8   1.0  12.500000\n",
      "61    Ferrari          sepang     16   2.0  12.500000\n",
      "163  Lotus F1     albert_park      8   1.0  12.500000\n",
      "185  Lotus F1      yas_marina      8   1.0  12.500000\n",
      "309  Red Bull         bahrain     18   2.0  11.111111\n",
      "232   McLaren     albert_park     20   2.0  10.000000\n",
      "313  Red Bull     hungaroring     20   2.0  10.000000\n",
      "330  Red Bull      villeneuve     20   2.0  10.000000\n",
      "63    Ferrari     silverstone     20   2.0  10.000000\n",
      "56    Ferrari           monza     20   2.0  10.000000\n",
      "325  Red Bull     silverstone     20   2.0  10.000000\n",
      "51    Ferrari     hungaroring     20   2.0  10.000000\n",
      "249   McLaren        shanghai     20   2.0  10.000000\n",
      "252   McLaren             spa     20   2.0  10.000000\n",
      "331  Red Bull      yas_marina     20   2.0  10.000000\n",
      "238   McLaren     hungaroring     20   2.0  10.000000\n",
      "65    Ferrari             spa     20   2.0  10.000000\n",
      "45    Ferrari     albert_park     20   2.0  10.000000\n",
      "318  Red Bull           monza     20   2.0  10.000000\n",
      "312  Red Bull  hockenheimring     12   1.0   8.333333\n",
      "233   McLaren        americas     16   1.0   6.250000\n",
      "308  Red Bull        americas     16   1.0   6.250000\n",
      "275  Mercedes          sepang     16   1.0   6.250000\n",
      "46    Ferrari        americas     16   1.0   6.250000\n",
      "239   McLaren      interlagos     20   1.0   5.000000\n",
      "253   McLaren          suzuka     20   1.0   5.000000\n",
      "243   McLaren           monza     20   1.0   5.000000\n",
      "62    Ferrari        shanghai     20   1.0   5.000000\n",
      "307  Red Bull     albert_park     20   1.0   5.000000\n",
      "256   McLaren      yas_marina     20   1.0   5.000000\n",
      "68    Ferrari      villeneuve     20   1.0   5.000000\n",
      "49    Ferrari       catalunya     20   1.0   5.000000\n",
      "52    Ferrari      interlagos     20   1.0   5.000000\n",
      "55    Ferrari          monaco     20   1.0   5.000000\n",
      "324  Red Bull        shanghai     20   1.0   5.000000\n",
      "440  Williams       catalunya     20   1.0   5.000000\n"
     ]
    }
   ],
   "source": [
    "#display all rows\n",
    "with pd.option_context('display.max_rows', None, 'display.max_columns', None):\n",
    "    print(merged_df_wins)"
   ]
  },
  {
   "cell_type": "markdown",
   "id": "d1ac8dd8",
   "metadata": {},
   "source": [
    "#### Conclusion: There is no clear trend between contructors and circuit."
   ]
  },
  {
   "cell_type": "code",
   "execution_count": null,
   "id": "b9fcad96",
   "metadata": {},
   "outputs": [],
   "source": []
  }
 ],
 "metadata": {
  "kernelspec": {
   "display_name": "mlenv",
   "language": "python",
   "name": "mlenv"
  },
  "language_info": {
   "codemirror_mode": {
    "name": "ipython",
    "version": 3
   },
   "file_extension": ".py",
   "mimetype": "text/x-python",
   "name": "python",
   "nbconvert_exporter": "python",
   "pygments_lexer": "ipython3",
   "version": "3.7.10"
  }
 },
 "nbformat": 4,
 "nbformat_minor": 5
}
