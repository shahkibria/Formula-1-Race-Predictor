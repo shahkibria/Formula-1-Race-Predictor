{
 "cells": [
  {
   "cell_type": "markdown",
   "id": "d7214478",
   "metadata": {},
   "source": [
    "# Exploratory Analysis - 2"
   ]
  },
  {
   "cell_type": "markdown",
   "id": "587b9e3a",
   "metadata": {},
   "source": [
    "#### This analysis is to explore if there is a trend in wins registered by Constructors, based on points they earn in each race. Though this is the official way of declaring the winner (covered in Analysis 1),  this helps us see if there is a differing trend from the official way."
   ]
  },
  {
   "cell_type": "code",
   "execution_count": 1,
   "id": "5a196ca1",
   "metadata": {},
   "outputs": [],
   "source": [
    "%matplotlib inline\n",
    "import pandas as pd\n",
    "import matplotlib.pyplot as plt\n",
    "import re\n",
    "import numpy as np"
   ]
  },
  {
   "cell_type": "code",
   "execution_count": 2,
   "id": "618d612a",
   "metadata": {},
   "outputs": [],
   "source": [
    "#Load files for analysis\n",
    "results_df = pd.read_csv('../Resources/Dataset/results.csv')\n",
    "circuits_df = pd.read_csv('../Resources/Dataset/circuits.csv')\n",
    "constructor_results_df = pd.read_csv('../Resources/Dataset/constructor_results.csv')\n",
    "constructors_df = pd.read_csv('../Resources/Dataset/constructors.csv')\n",
    "drivers_df = pd.read_csv('../Resources/Dataset/drivers.csv')\n",
    "races_df = pd.read_csv('../Resources/Dataset/races.csv')\n",
    "status_df = pd.read_csv('../Resources/Dataset/status.csv')"
   ]
  },
  {
   "cell_type": "markdown",
   "id": "74520f4d",
   "metadata": {},
   "source": [
    "### Merging datasets"
   ]
  },
  {
   "cell_type": "code",
   "execution_count": 3,
   "id": "f5f8c7b6",
   "metadata": {},
   "outputs": [],
   "source": [
    "# Joining datasets\n",
    "\n",
    "#join results with drivers datasets\n",
    "res_dr_df = pd.merge(results_df,drivers_df,how='left',on='driverId', suffixes=('_res','_drv'))\n",
    "\n",
    "#join status dataset\n",
    "res_dr_df_st = pd.merge(res_dr_df, status_df, how='left', on='statusId', suffixes=('_mer1', 'st'))\n",
    "\n",
    "#join races with results\n",
    "res_dr_ra_df = pd.merge(res_dr_df_st,races_df,how='left',on='raceId', suffixes=('_mer2','_rac'))\n",
    "\n",
    "#join circuit dataset\n",
    "res_dr_ra_cir_df = pd.merge(res_dr_ra_df,circuits_df,how='left', on='circuitId', suffixes=('_mer3','_cir'))\n",
    "\n",
    "#join the above with constructor data\n",
    "merged_df = pd.merge(res_dr_ra_cir_df,constructors_df,how='left',on='constructorId', suffixes=('_mer4','_con'))"
   ]
  },
  {
   "cell_type": "code",
   "execution_count": 4,
   "id": "bb8772ff",
   "metadata": {},
   "outputs": [],
   "source": [
    "#Drop columns that are not necessary\n",
    "merged_df = merged_df.drop(columns=['number_res','points','laps','fastestLap','rank','round',\\\n",
    "                                    'statusId','number_drv','code','url_mer2','url_rac','url_mer4',\\\n",
    "                                    'url_con','time_rac'])"
   ]
  },
  {
   "cell_type": "code",
   "execution_count": 5,
   "id": "5b08fec9",
   "metadata": {},
   "outputs": [],
   "source": [
    "#Replace '\\N' with 0 and convert to numeric\n",
    "merged_df['position'] = merged_df['position'].replace({'\\\\N':0})\n",
    "merged_df['position'] = pd.to_numeric(merged_df['position'])"
   ]
  },
  {
   "cell_type": "code",
   "execution_count": 6,
   "id": "8f3f9ccc",
   "metadata": {
    "scrolled": true
   },
   "outputs": [
    {
     "name": "stderr",
     "output_type": "stream",
     "text": [
      "C:\\Users\\User\\anaconda3\\envs\\mlenv\\lib\\site-packages\\ipykernel_launcher.py:1: FutureWarning: The default value of regex will change from True to False in a future version.\n",
      "  \"\"\"Entry point for launching an IPython kernel.\n"
     ]
    }
   ],
   "source": [
    "#Replace all values that have 'laps' at the end in the status column to 'Finished' \n",
    "#as these racers are finished the race anyway\n",
    "merged_df['status'] = merged_df.status.str.replace(\"\\+\\d\\s\\w*|\\+\\d\\d\\s\\w*\", 'Finished')"
   ]
  },
  {
   "cell_type": "markdown",
   "id": "b8e3b4e1",
   "metadata": {},
   "source": [
    "## Constructor Wins (Points)"
   ]
  },
  {
   "cell_type": "code",
   "execution_count": 8,
   "id": "4e7ad910",
   "metadata": {},
   "outputs": [],
   "source": [
    "#Merging dataframes and group by raceid\n",
    "race_grp = constructor_results_df.groupby(['raceId'], sort=True)['points'].max()\n",
    "constructor_results_df2 = pd.merge(constructor_results_df, race_grp, how='left', on='raceId')\n",
    "constructor_results_df2['status'].replace({\"\\\\N\":1}, inplace=True)\n",
    "constructor_results_df2['status_n'] = np.where(constructor_results_df2['points_x'] == constructor_results_df2['points_y'], 1,0)"
   ]
  },
  {
   "cell_type": "code",
   "execution_count": 10,
   "id": "543f4224",
   "metadata": {},
   "outputs": [],
   "source": [
    "#merge dataframes to create final dataframe\n",
    "constructor_results_df3 = pd.merge(constructor_results_df2, races_df, how='left', on='raceId')\n",
    "constructor_results_df4 = pd.merge(constructor_results_df3, constructors_df, how='left', on='constructorId')"
   ]
  },
  {
   "cell_type": "code",
   "execution_count": 11,
   "id": "986f9244",
   "metadata": {},
   "outputs": [],
   "source": [
    "#drop columns that are not needed\n",
    "constructor_results_df4 = constructor_results_df4.drop(columns=['url_y','url_x','constructorRef'], axis=1)"
   ]
  },
  {
   "cell_type": "markdown",
   "id": "8021a61c",
   "metadata": {},
   "source": [
    "#### 2000 to 2009"
   ]
  },
  {
   "cell_type": "code",
   "execution_count": 12,
   "id": "db360924",
   "metadata": {
    "scrolled": true
   },
   "outputs": [],
   "source": [
    "# filter data by years\n",
    "yearly = constructor_results_df4.loc[(constructor_results_df4['year']>=2000) & (constructor_results_df4['year']<=2009)]"
   ]
  },
  {
   "cell_type": "code",
   "execution_count": 13,
   "id": "59a5a62b",
   "metadata": {
    "scrolled": true
   },
   "outputs": [],
   "source": [
    "# convert to dataframe\n",
    "yearly_df = pd.DataFrame(yearly)"
   ]
  },
  {
   "cell_type": "code",
   "execution_count": 14,
   "id": "644e9a07",
   "metadata": {
    "scrolled": true
   },
   "outputs": [],
   "source": [
    "# group by name\n",
    "cons_count = yearly_df.groupby(['name_y'])['status'].count()"
   ]
  },
  {
   "cell_type": "code",
   "execution_count": 15,
   "id": "667f40a5",
   "metadata": {
    "scrolled": true
   },
   "outputs": [],
   "source": [
    "# transform data to get the percentage of wins by constructor\n",
    "cwc = yearly_df.groupby(['name_y']).sum()\n",
    "cons_count_merged = pd.merge(cons_count, cwc, how='left', on='name_y')\n",
    "cons_count_merged = cons_count_merged.rename(columns={'status':'races','status_n':'wins'})\n",
    "cons_count_merged['w_perc'] = (cons_count_merged['wins'] / cons_count_merged['races']) * 100\n",
    "cons_count_merged = cons_count_merged.sort_values(ascending=False, by='w_perc')"
   ]
  },
  {
   "cell_type": "code",
   "execution_count": 16,
   "id": "64e103fa",
   "metadata": {},
   "outputs": [],
   "source": [
    "#convert index to list for x-axis\n",
    "x_axis = cons_count_merged.index.tolist()"
   ]
  },
  {
   "cell_type": "code",
   "execution_count": 17,
   "id": "9eaf863d",
   "metadata": {
    "scrolled": true
   },
   "outputs": [],
   "source": [
    "# creating y-axis\n",
    "y_axis = cons_count_merged.groupby(['name_y'], sort=False)['w_perc'].sum().sort_values(ascending=False)"
   ]
  },
  {
   "cell_type": "code",
   "execution_count": 18,
   "id": "789bb68a",
   "metadata": {
    "scrolled": false
   },
   "outputs": [
    {
     "data": {
      "text/plain": [
       "<Figure size 432x288 with 0 Axes>"
      ]
     },
     "metadata": {},
     "output_type": "display_data"
    },
    {
     "data": {
      "image/png": "[encoded data removed]",
      "text/plain": [
       "<Figure size 1152x432 with 1 Axes>"
      ]
     },
     "metadata": {
      "needs_background": "light"
     },
     "output_type": "display_data"
    }
   ],
   "source": [
    "# Plot both axis\n",
    "fig = plt.figure()\n",
    "plt.figure(figsize=(16,6))\n",
    "plt.bar(x_axis, y_axis)\n",
    "plt.title('Constructor wins by points (2000 to 2009)')\n",
    "plt.xlabel(\"Constructor Name\")\n",
    "plt.ylabel(\"Percentage of Races won\")\n",
    "plt.xticks(rotation=45);"
   ]
  },
  {
   "cell_type": "markdown",
   "id": "d631f4d1",
   "metadata": {},
   "source": [
    "#### 2010 to 2019"
   ]
  },
  {
   "cell_type": "code",
   "execution_count": 19,
   "id": "3684ddd4",
   "metadata": {
    "scrolled": true
   },
   "outputs": [],
   "source": [
    "# filter data by years\n",
    "yearly = constructor_results_df4.loc[(constructor_results_df4['year']>=2010) & (constructor_results_df4['year']<2020)]"
   ]
  },
  {
   "cell_type": "code",
   "execution_count": 20,
   "id": "00493f88",
   "metadata": {
    "scrolled": true
   },
   "outputs": [],
   "source": [
    "# convert to dataframe\n",
    "yearly_df = pd.DataFrame(yearly)"
   ]
  },
  {
   "cell_type": "code",
   "execution_count": 21,
   "id": "b1328425",
   "metadata": {
    "scrolled": true
   },
   "outputs": [],
   "source": [
    "# group by name\n",
    "cons_count = yearly_df.groupby(['name_y'])['status'].count()"
   ]
  },
  {
   "cell_type": "code",
   "execution_count": 22,
   "id": "64636993",
   "metadata": {
    "scrolled": true
   },
   "outputs": [],
   "source": [
    "# transform data to get the percentage of wins by constructor\n",
    "cwc = yearly_df.groupby(['name_y']).sum()\n",
    "cons_count_merged = pd.merge(cons_count, cwc, how='left', on='name_y')\n",
    "cons_count_merged = cons_count_merged.rename(columns={'status':'races','status_n':'wins'})\n",
    "cons_count_merged['w_perc'] = (cons_count_merged['wins'] / cons_count_merged['races']) * 100\n",
    "cons_count_merged = cons_count_merged.sort_values(ascending=False, by='w_perc')"
   ]
  },
  {
   "cell_type": "code",
   "execution_count": 23,
   "id": "f5f446bd",
   "metadata": {},
   "outputs": [],
   "source": [
    "#convert index to list for x-axis\n",
    "x_axis = cons_count_merged.index.tolist()"
   ]
  },
  {
   "cell_type": "code",
   "execution_count": 24,
   "id": "a2399bb0",
   "metadata": {
    "scrolled": true
   },
   "outputs": [],
   "source": [
    "# creating y-axis\n",
    "y_axis = cons_count_merged.groupby(['name_y'], sort=False)['w_perc'].sum().sort_values(ascending=False)"
   ]
  },
  {
   "cell_type": "code",
   "execution_count": 25,
   "id": "5e2ee220",
   "metadata": {
    "scrolled": false
   },
   "outputs": [
    {
     "data": {
      "text/plain": [
       "<Figure size 432x288 with 0 Axes>"
      ]
     },
     "metadata": {},
     "output_type": "display_data"
    },
    {
     "data": {
      "image/png": "[encoded data removed]",
      "text/plain": [
       "<Figure size 1152x432 with 1 Axes>"
      ]
     },
     "metadata": {
      "needs_background": "light"
     },
     "output_type": "display_data"
    }
   ],
   "source": [
    "# Plot both axis\n",
    "fig = plt.figure()\n",
    "plt.figure(figsize=(16,6))\n",
    "plt.bar(x_axis, y_axis)\n",
    "plt.title('Constructor wins by points (2010 to 2019)')\n",
    "plt.xlabel(\"Constructor Name\")\n",
    "plt.ylabel(\"Percentage of Races won\")\n",
    "plt.xticks(rotation=45);"
   ]
  },
  {
   "cell_type": "markdown",
   "id": "437bd33b",
   "metadata": {},
   "source": [
    "#### Conclusion: It is evident that for the last 20 years, only a select few constructors are winning the races. It is known that these constructors spend a lot of money and respources to advance their technological capabilities."
   ]
  },
  {
   "cell_type": "code",
   "execution_count": null,
   "id": "b2a1e66a",
   "metadata": {},
   "outputs": [],
   "source": []
  }
 ],
 "metadata": {
  "kernelspec": {
   "display_name": "mlenv",
   "language": "python",
   "name": "mlenv"
  },
  "language_info": {
   "codemirror_mode": {
    "name": "ipython",
    "version": 3
   },
   "file_extension": ".py",
   "mimetype": "text/x-python",
   "name": "python",
   "nbconvert_exporter": "python",
   "pygments_lexer": "ipython3",
   "version": "3.7.10"
  }
 },
 "nbformat": 4,
 "nbformat_minor": 5
}
